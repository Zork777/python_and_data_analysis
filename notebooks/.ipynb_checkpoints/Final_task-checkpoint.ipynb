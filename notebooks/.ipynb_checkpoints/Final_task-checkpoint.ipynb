{
 "cells": [
  {
   "cell_type": "markdown",
   "metadata": {},
   "source": [
    "# <img src=\"../images/sberbank.png\">\n",
    "# <center> Финальное задание </center>\n",
    "## <center> Предсказание пола клиента по транзакциям</center>\n",
    "\n",
    "## Описание задачи \n",
    "### В рамках финального задания будет необходимо предсказывать пол клиента, основываясь на его транзакционных исторических данных. Выполнение финального задания - это маленький шаг в большую Data Science-всесенную, поэтому отнеситесь к нему максимально серьёзно :)\n",
    "### Вы будете строить предиктивные модели и отправлять результаты своего моделирования на платформу [Kaggle](https://www.kaggle.com/t/e8a939488d274dab9051cce14d5ca952), где и будет оцениваться каждое решение и положение участников. Но переживать не стоит - код, связанный с построением модели мы уже написали, поэтому вашим основным заданием будет создание новых переменных для генерации новых инсайдов из данных, которые смогут улучшить полученные значения метрики.\n",
    "### В роли метрики выступает [ROC AUC](https://dyakonov.org/2017/07/28/auc-roc-%D0%BF%D0%BB%D0%BE%D1%89%D0%B0%D0%B4%D1%8C-%D0%BF%D0%BE%D0%B4-%D0%BA%D1%80%D0%B8%D0%B2%D0%BE%D0%B9-%D0%BE%D1%88%D0%B8%D0%B1%D0%BE%D0%BA/), который и нужно будет оптимизировать."
   ]
  },
  {
   "cell_type": "code",
   "execution_count": 1,
   "metadata": {
    "ExecuteTime": {
     "end_time": "2019-03-05T17:34:52.054851Z",
     "start_time": "2019-03-05T17:34:51.515762Z"
    }
   },
   "outputs": [],
   "source": [
    "import pandas as pd\n",
    "import numpy as np\n",
    "import xgboost as xgb\n",
    "import re\n",
    "import matplotlib.pyplot as plt\n",
    "\n",
    "from tqdm._tqdm_notebook import tqdm_notebook\n",
    "from warnings import filterwarnings\n",
    "\n",
    "%matplotlib inline\n",
    "filterwarnings('ignore')"
   ]
  },
  {
   "cell_type": "code",
   "execution_count": 2,
   "metadata": {
    "ExecuteTime": {
     "end_time": "2019-03-05T17:34:58.314241Z",
     "start_time": "2019-03-05T17:34:52.056205Z"
    },
    "scrolled": true
   },
   "outputs": [],
   "source": [
    "# Считываем данные\n",
    "tr_mcc_codes = pd.read_csv('../data/tr_mcc_codes.csv', sep=';', index_col='mcc_code')\n",
    "tr_types = pd.read_csv('../data/tr_types.csv', sep=';', index_col='tr_type')\n",
    "\n",
    "transactions = pd.read_csv('../data/transactions.csv', index_col='customer_id')\n",
    "gender_train = pd.read_csv('../data/gender_train.csv', index_col='customer_id')\n",
    "gender_test = pd.read_csv('../data/gender_test.csv', index_col='customer_id')\n",
    "transactions_train = transactions.join(gender_train, how='inner')\n",
    "transactions_test = transactions.join(gender_test, how='inner')\n",
    "\n",
    "del transactions"
   ]
  },
  {
   "cell_type": "code",
   "execution_count": null,
   "metadata": {},
   "outputs": [],
   "source": [
    "#transactions_test.info()"
   ]
  },
  {
   "cell_type": "code",
   "execution_count": null,
   "metadata": {},
   "outputs": [],
   "source": [
    "#transactions_train.head()"
   ]
  },
  {
   "cell_type": "code",
   "execution_count": 230,
   "metadata": {
    "ExecuteTime": {
     "end_time": "2019-03-05T17:34:58.354996Z",
     "start_time": "2019-03-05T17:34:58.315591Z"
    }
   },
   "outputs": [],
   "source": [
    "# Функции, которыми можно пользоваться для построения классификатора, \n",
    "# оценки его результатов и построение прогноза для тестовой части пользователей\n",
    "\n",
    "# Cross-validation score (среднее значение метрики ROC AUC на тренировочных данных)\n",
    "def cv_score(params, train, y_true):\n",
    "    cv_res=xgb.cv(params, xgb.DMatrix(train, y_true),\n",
    "                  early_stopping_rounds=10, maximize=True, \n",
    "                  num_boost_round=10000, nfold=5, stratified=True)\n",
    "#    print(cv_res)\n",
    "    index_argmax = cv_res['test-auc-mean'].argmax()\n",
    "    print('Cross-validation, ROC AUC: {:.3f}+-{:.3f}, Trees: {}'.format(cv_res.loc[index_argmax]['test-auc-mean'],\n",
    "                                                                        cv_res.loc[index_argmax]['test-auc-std'],\n",
    "                                                                        index_argmax))\n",
    "    return cv_res.loc[index_argmax]['test-auc-mean'], cv_res.loc[index_argmax]['test-auc-std']\n",
    "\n",
    "# Построение модели + возврат результатов классификации тестовых пользователей\n",
    "def fit_predict(params, num_trees, train, test, target):\n",
    "    params['learning_rate'] = params['eta']\n",
    "    clf = xgb.train(params, xgb.DMatrix(train.values, target, feature_names=list(train.columns)), \n",
    "                    num_boost_round=num_trees, maximize=True)\n",
    "    y_pred = clf.predict(xgb.DMatrix(test.values, feature_names=list(train.columns)))\n",
    "    submission = pd.DataFrame(index=test.index, data=y_pred, columns=['probability'])\n",
    "    return clf, submission\n",
    "\n",
    "# Отрисовка важности переменных. Важность переменной - количество разбиений выборки, \n",
    "# в которых участвует данная переменная. Чем больше - тем она, вероятно, лучше \n",
    "def draw_feature_importances(clf, top_k=10):\n",
    "    plt.figure(figsize=(10, 10))\n",
    "    \n",
    "    importances = dict(sorted(clf.get_score().items(), key=lambda x: x[1])[-top_k:])\n",
    "    y_pos = np.arange(len(importances))\n",
    "    \n",
    "    plt.barh(y_pos, list(importances.values()), align='center', color='green')\n",
    "    plt.yticks(y_pos, importances.keys(), fontsize=12)\n",
    "    plt.xticks(fontsize=12)\n",
    "    plt.xlabel('Feature importance', fontsize=15)\n",
    "    plt.title('Features importances, Sberbank Gender Prediction', fontsize=18)\n",
    "    plt.ylim(-0.5, len(importances) - 0.5)\n",
    "    plt.show()"
   ]
  },
  {
   "cell_type": "markdown",
   "metadata": {},
   "source": [
    "### Так как код для оценки модели на тренировочных данных и её применения на тестовых данных уже дан, то мы будем работать над тем, чтобы создать переменные для улучшения результатов моделирования. \n",
    "\n",
    "### (!) В рамках данного задания Вы можете делать всё, что угодно - использовать другие алгоритмы и/или их комбинации, подбирать гиперпараметры своих моделей, отбирать переменые, etc. Мы создали шаблон для простоты и для Вашего понимания верхнеуровневого процесса разработки модели, опустив при этом большое число деталей."
   ]
  },
  {
   "cell_type": "markdown",
   "metadata": {},
   "source": [
    "## Basic features\n",
    "Начнём с того, что сформируем базовые переменные по каждому пользователю. На этом этапе будем использовать стандартные агрегации, посчитанные на расходах и приходах клиента:\n",
    "- минимум\n",
    "- максимум\n",
    "- среднее\n",
    "- медиана\n",
    "- среднеквадратичное отклонение\n",
    "- количество\n",
    "\n",
    "Также параметры модели выберем стандартные, запишем их в словарь params, и будем использовать для дальнейшего построения модели (не забывайте, что с этим Вы можете тоже экспериментировать)."
   ]
  },
  {
   "cell_type": "code",
   "execution_count": null,
   "metadata": {
    "ExecuteTime": {
     "end_time": "2019-03-05T17:34:58.362104Z",
     "start_time": "2019-03-05T17:34:58.356308Z"
    }
   },
   "outputs": [],
   "source": [
    "params = {\n",
    "    'eta': 0.1,\n",
    "    'max_depth': 3,\n",
    "    'subsample': 0.8,\n",
    "    'colsample_bytree': 0.8,\n",
    "    \n",
    "    'gamma': 0,\n",
    "    'lambda': 0,\n",
    "    'alpha': 0,\n",
    "    'min_child_weight': 0,\n",
    "    \n",
    "    'eval_metric': 'auc',\n",
    "    'objective': 'binary:logistic' ,\n",
    "    'booster': 'gbtree',\n",
    "    'njobs': -1,\n",
    "    'tree_method': 'approx'\n",
    "}"
   ]
  },
  {
   "cell_type": "code",
   "execution_count": 4,
   "metadata": {
    "ExecuteTime": {
     "end_time": "2019-03-05T17:35:41.272300Z",
     "start_time": "2019-03-05T17:34:58.363622Z"
    }
   },
   "outputs": [],
   "source": [
    "tqdm_notebook.pandas(desc=\"Progress:\")"
   ]
  },
  {
   "cell_type": "code",
   "execution_count": null,
   "metadata": {},
   "outputs": [],
   "source": [
    "def features_creation_basic(x): \n",
    "    features = []\n",
    "    features.append(pd.Series(x[x['amount']>0]['amount'].agg(['min', 'max', 'mean', 'median', 'std', 'count'])\\\n",
    "                                                        .add_prefix('positive_transactions_')))\n",
    "    features.append(pd.Series(x[x['amount']<0]['amount'].agg(['min', 'max', 'mean', 'median', 'std', 'count'])\\\n",
    "                                                        .add_prefix('negative_transactions_')))\n",
    " \n",
    "    return pd.concat(features)\n",
    "\n",
    "data_train = transactions_train.groupby(transactions_train.index).progress_apply(features_creation_basic)\n",
    "data_test = transactions_test.groupby(transactions_test.index).progress_apply(features_creation_basic)"
   ]
  },
  {
   "cell_type": "code",
   "execution_count": null,
   "metadata": {},
   "outputs": [],
   "source": [
    "#data_test.head()"
   ]
  },
  {
   "cell_type": "code",
   "execution_count": null,
   "metadata": {},
   "outputs": [],
   "source": [
    "#data_train.head()"
   ]
  },
  {
   "cell_type": "code",
   "execution_count": null,
   "metadata": {
    "ExecuteTime": {
     "end_time": "2019-03-05T17:35:45.011046Z",
     "start_time": "2019-03-05T17:35:41.273326Z"
    }
   },
   "outputs": [],
   "source": [
    "target = data_train.join(gender_train, how='inner')['gender']\n",
    "cv_score(params, data_train, target)"
   ]
  },
  {
   "cell_type": "code",
   "execution_count": null,
   "metadata": {},
   "outputs": [],
   "source": [
    "#target.head()"
   ]
  },
  {
   "cell_type": "code",
   "execution_count": null,
   "metadata": {},
   "outputs": [],
   "source": []
  },
  {
   "cell_type": "code",
   "execution_count": null,
   "metadata": {
    "ExecuteTime": {
     "end_time": "2019-03-05T17:35:45.714620Z",
     "start_time": "2019-03-05T17:35:45.018570Z"
    }
   },
   "outputs": [],
   "source": [
    "### Число деревьев для XGBoost имеет смысл выставлять по результатам на кросс-валидации \n",
    "clf, submission = fit_predict(params, 88, data_train, data_test, target)\n",
    "#clf, submission = fit_predict(params, 70, data_train, data_test, target)"
   ]
  },
  {
   "cell_type": "code",
   "execution_count": null,
   "metadata": {
    "ExecuteTime": {
     "end_time": "2019-03-05T17:35:45.897370Z",
     "start_time": "2019-03-05T17:35:45.719320Z"
    },
    "scrolled": false
   },
   "outputs": [],
   "source": [
    "draw_feature_importances(clf, 10)"
   ]
  },
  {
   "cell_type": "code",
   "execution_count": null,
   "metadata": {},
   "outputs": [],
   "source": [
    "submission.to_csv('../data/basic_features_submission.csv')"
   ]
  },
  {
   "cell_type": "markdown",
   "metadata": {},
   "source": [
    "### Видим, что результат на кросс-валидации - 62.5% ROC AUC."
   ]
  },
  {
   "cell_type": "markdown",
   "metadata": {},
   "source": [
    "## Advanced features\n",
    "Добавим дополнительные переменные по каждому пользователю в модель. <br>\n",
    "Для этого будем анализировать дни недели, часы и состояние дня/ночи во время покупки - в каждом из случаев будем считать частоту транзакций в соответствующей категории относитеьно всех остальных категорий. <br>\n",
    "То есть если, например, клиент в 70% случае совершал ночные траты, то мы получим вектор [0.7, 0.3] для этого случая в качестве частот транзакций ночью/днём."
   ]
  },
  {
   "cell_type": "code",
   "execution_count": 5,
   "metadata": {
    "ExecuteTime": {
     "end_time": "2019-03-05T17:35:57.677748Z",
     "start_time": "2019-03-05T17:35:45.921444Z"
    }
   },
   "outputs": [],
   "source": [
    "for df in [transactions_train, transactions_test]:\n",
    "    df['day'] = df['tr_datetime'].str.split().apply(lambda x: int(x[0]) % 7)\n",
    "    df['hour'] = df['tr_datetime'].apply(lambda x: re.search(' \\d*', x).group(0)).astype(int)\n",
    "    df['night'] = ~df['hour'].between(6, 22).astype(int)\n",
    "    df['mcc_tr'] = df['mcc_code'].astype(str)+df['tr_type'].astype(str)\n",
    "    df['mcc_hour'] = df['mcc_code'].astype(str)+df['tr_datetime'].apply(lambda x: re.search(' \\d*', x).group(0)).astype(str)"
   ]
  },
  {
   "cell_type": "code",
   "execution_count": null,
   "metadata": {},
   "outputs": [],
   "source": [
    "#transactions_train.head()"
   ]
  },
  {
   "cell_type": "code",
   "execution_count": null,
   "metadata": {},
   "outputs": [],
   "source": [
    "#transactions_train.info()"
   ]
  },
  {
   "cell_type": "code",
   "execution_count": null,
   "metadata": {
    "ExecuteTime": {
     "end_time": "2019-03-05T17:35:57.687397Z",
     "start_time": "2019-03-05T17:35:57.678823Z"
    }
   },
   "outputs": [],
   "source": [
    "def features_creation_advanced(x): \n",
    "    features = []\n",
    "    features.append(pd.Series(x['day'].value_counts(normalize=True).add_prefix('day_')))\n",
    "    features.append(pd.Series(x['hour'].value_counts(normalize=True).add_prefix('hour_')))\n",
    "    features.append(pd.Series(x['night'].value_counts(normalize=True).add_prefix('night_')))\n",
    "    features.append(pd.Series(x[x['amount']>0]['amount'].agg(['min', 'max', 'mean', 'median', 'std', 'count'])\\\n",
    "                                                        .add_prefix('positive_transactions_')))\n",
    "    features.append(pd.Series(x[x['amount']<0]['amount'].agg(['min', 'max', 'mean', 'median', 'std', 'count'])\\\n",
    "                                                        .add_prefix('negative_transactions_')))\n",
    " \n",
    "    return pd.concat(features)"
   ]
  },
  {
   "cell_type": "code",
   "execution_count": null,
   "metadata": {
    "ExecuteTime": {
     "end_time": "2019-03-05T17:37:19.784321Z",
     "start_time": "2019-03-05T17:35:57.688448Z"
    }
   },
   "outputs": [],
   "source": [
    "data_train = transactions_train.groupby(transactions_train.index)\\\n",
    "                               .progress_apply(features_creation_advanced).unstack(-1)\n",
    "data_test = transactions_test.groupby(transactions_test.index)\\\n",
    "                             .progress_apply(features_creation_advanced).unstack(-1)"
   ]
  },
  {
   "cell_type": "code",
   "execution_count": null,
   "metadata": {},
   "outputs": [],
   "source": [
    "#data_train.head()"
   ]
  },
  {
   "cell_type": "code",
   "execution_count": null,
   "metadata": {},
   "outputs": [],
   "source": []
  },
  {
   "cell_type": "code",
   "execution_count": null,
   "metadata": {
    "ExecuteTime": {
     "end_time": "2019-03-05T17:37:27.200528Z",
     "start_time": "2019-03-05T17:37:19.785535Z"
    }
   },
   "outputs": [],
   "source": [
    "target = data_train.join(gender_train, how='inner')['gender']\n",
    "cv_score(params, data_train, target)"
   ]
  },
  {
   "cell_type": "code",
   "execution_count": null,
   "metadata": {
    "ExecuteTime": {
     "end_time": "2019-03-05T17:37:28.307548Z",
     "start_time": "2019-03-05T17:37:27.205214Z"
    }
   },
   "outputs": [],
   "source": [
    "### Число деревьев для XGBoost имеет смысл выятавлять по результатам на кросс-валидации \n",
    "clf, submission = fit_predict(params, 148, data_train, data_test, target)\n",
    "#clf, submission = fit_predict(params, 70, data_train, data_test, target)"
   ]
  },
  {
   "cell_type": "code",
   "execution_count": null,
   "metadata": {
    "ExecuteTime": {
     "end_time": "2019-03-05T17:37:28.426836Z",
     "start_time": "2019-03-05T17:37:28.308620Z"
    },
    "scrolled": false
   },
   "outputs": [],
   "source": [
    "draw_feature_importances(clf, 10)"
   ]
  },
  {
   "cell_type": "markdown",
   "metadata": {
    "heading_collapsed": true
   },
   "source": [
    "### Добавление новых переменных улучшило наши результаты ROC AUC с 62.5% до 68.2%, на тестовой выборке результат будет аналогичным, так что мы явно не переобучились. При этом есть куда стремиться!"
   ]
  },
  {
   "cell_type": "markdown",
   "metadata": {},
   "source": [
    "### В итоге можем отправить полученное решение на платформу в Kaggle In-Class Competition. Для этого выгрузим его в *.csv - файл, после чего полученный файл можем загружать в качестве ответа."
   ]
  },
  {
   "cell_type": "code",
   "execution_count": null,
   "metadata": {
    "ExecuteTime": {
     "end_time": "2019-03-05T17:37:28.448839Z",
     "start_time": "2019-03-05T17:37:28.438234Z"
    }
   },
   "outputs": [],
   "source": [
    "submission.to_csv('../data/submission_advanced.csv')"
   ]
  },
  {
   "cell_type": "code",
   "execution_count": null,
   "metadata": {},
   "outputs": [],
   "source": [
    "#transactions_train.index"
   ]
  },
  {
   "cell_type": "markdown",
   "metadata": {},
   "source": [
    "# (!) Цель задания:\n",
    "## Полученная модель должна иметь ROC AUC на Public-части тестовой выборки (на лидерборде) не менее 80%."
   ]
  },
  {
   "cell_type": "code",
   "execution_count": 259,
   "metadata": {},
   "outputs": [],
   "source": [
    "from hyperopt import hp, fmin, tpe, STATUS_OK, Trials\n",
    "from sklearn.metrics import roc_auc_score\n",
    "import gc"
   ]
  },
  {
   "cell_type": "code",
   "execution_count": 289,
   "metadata": {},
   "outputs": [],
   "source": [
    "params = {\n",
    "    'eta': 0.1,\n",
    "    'tree_method': \"hist\", #\"approx\", #\"hist\"\n",
    "    'grow_policy': \"lossguide\",\n",
    "    'max_leaves': 1000,  \n",
    "    'max_depth': 3, \n",
    "    'subsample': 0.9, \n",
    "    'alpha':1,\n",
    "    'objective': 'binary:logistic', \n",
    "    'scale_pos_weight':100,\n",
    "    'eval_metric': 'auc', \n",
    "    'nthread':4,\n",
    "    'silent': 0\n",
    "}"
   ]
  },
  {
   "cell_type": "code",
   "execution_count": 282,
   "metadata": {},
   "outputs": [],
   "source": [
    "#dmtrain= xgb.DMatrix(data_train.values, target, feature_names=list(data_train.columns))\n",
    "#dmvalid= xgb.DMatrix(data_test.values, feature_names=list(data_train.columns))\n",
    "dmtrain= xgb.DMatrix(data_train[:train_size].values, target[:train_size], feature_names=list(data_train.columns))\n",
    "dmvalid= xgb.DMatrix(data_train[train_size:].values, target[train_size:], feature_names=list(data_train.columns))"
   ]
  },
  {
   "cell_type": "code",
   "execution_count": 65,
   "metadata": {},
   "outputs": [],
   "source": [
    "#del dmvalid\n",
    "#data_train\n",
    "#list(data_train.columns)\n",
    "#data_train.info()"
   ]
  },
  {
   "cell_type": "code",
   "execution_count": 290,
   "metadata": {},
   "outputs": [],
   "source": [
    "def objective(params):\n",
    "    num_round = int(params['n_estimators'])\n",
    "    del params['n_estimators']\n",
    "    watchlist = [(dmtrain, 'train'), (dmvalid, 'valid')]\n",
    "    model = xgb.train(params, dmtrain, num_round, watchlist, maximize=True, early_stopping_rounds=20, verbose_eval=1)\n",
    "    pred = model.predict(dmvalid, ntree_limit=model.best_ntree_limit)\n",
    "    auc = roc_auc_score(dmvalid.get_label(), pred)\n",
    "    del model, pred\n",
    "    gc.collect()\n",
    "    print(f\"SCORE: {auc}\")\n",
    "#    print(\"params: \",params)\n",
    "    return { 'loss': 1-auc, 'status': STATUS_OK }"
   ]
  },
  {
   "cell_type": "code",
   "execution_count": 284,
   "metadata": {},
   "outputs": [],
   "source": [
    "# hyperparameter optimization space\n",
    "# find more parameters in docs https://github.com/dmlc/xgboost/blob/443ff746e9723dcf571769b0d6ea28fbcb3e4a3f/doc/parameter.md\n",
    "space = {\n",
    "    'n_estimators': hp.quniform('n_estimators', 200, 600, 50),\n",
    "    #'n_estimators': 3, # WARNING: increse number of estimators, e.g. uncomment the above line (it's small for the sake of example)\n",
    "    'eta': hp.quniform('eta', 0.025, 0.1, 0.025),\n",
    "    'max_depth': hp.choice('max_depth', np.arange(1, 14, dtype=int)),\n",
    "    'min_child_weight': hp.quniform('min_child_weight', 1, 10, 1),\n",
    "    'subsample': hp.quniform('subsample', 0.7, 1, 0.05),\n",
    "    'gamma': hp.quniform('gamma', 0.5, 1, 0.05),\n",
    "    'colsample_bytree': hp.quniform('colsample_bytree', 0.7, 1, 0.05),\n",
    "    'alpha' : hp.quniform('alpha', 0, 10, 1),\n",
    "    'lambda': hp.quniform('lambda', 1, 2, 0.1),\n",
    "    'scale_pos_weight': hp.quniform('scale_pos_weight', 50, 200, 10),\n",
    "    'objective': 'binary:logistic',\n",
    "    'eval_metric': 'auc',\n",
    "    'tree_method': \"approx\", #\"hist\",\n",
    "    'booster': 'gbtree',\n",
    "    'nthread': 4, \n",
    "    'silent': 0\n",
    "}"
   ]
  },
  {
   "cell_type": "code",
   "execution_count": 285,
   "metadata": {},
   "outputs": [],
   "source": [
    "trials = Trials()"
   ]
  },
  {
   "cell_type": "code",
   "execution_count": 286,
   "metadata": {},
   "outputs": [
    {
     "name": "stdout",
     "output_type": "stream",
     "text": [
      "                                                                               \n",
      "\bSCORE: 0.8644204731182796\n",
      "params:                                                                        \n",
      "{'alpha': 8.0, 'booster': 'gbtree', 'colsample_bytree': 0.9, 'eta': 0.07500000000000001, 'eval_metric': 'auc', 'gamma': 0.7000000000000001, 'lambda': 1.2000000000000002, 'max_depth': 13, 'min_child_weight': 6.0, 'nthread': 4, 'objective': 'binary:logistic', 'scale_pos_weight': 130.0, 'silent': 0, 'subsample': 0.8500000000000001, 'tree_method': 'approx'}\n",
      "                                                                               \n",
      "\bSCORE: 0.8651339928315411\n",
      "params:                                                                        \n",
      "{'alpha': 6.0, 'booster': 'gbtree', 'colsample_bytree': 0.7000000000000001, 'eta': 0.05, 'eval_metric': 'auc', 'gamma': 0.6000000000000001, 'lambda': 1.0, 'max_depth': 10, 'min_child_weight': 4.0, 'nthread': 4, 'objective': 'binary:logistic', 'scale_pos_weight': 140.0, 'silent': 0, 'subsample': 0.75, 'tree_method': 'approx'}\n",
      "                                                                               \n",
      "\bSCORE: 0.8484930752688172\n",
      "params:                                                                        \n",
      "{'alpha': 6.0, 'booster': 'gbtree', 'colsample_bytree': 0.9500000000000001, 'eta': 0.05, 'eval_metric': 'auc', 'gamma': 0.65, 'lambda': 1.9000000000000001, 'max_depth': 2, 'min_child_weight': 9.0, 'nthread': 4, 'objective': 'binary:logistic', 'scale_pos_weight': 130.0, 'silent': 0, 'subsample': 0.8, 'tree_method': 'approx'}\n",
      "                                                                               \n",
      "\bSCORE: 0.8634839856630824\n",
      "params:                                                                        \n",
      "{'alpha': 8.0, 'booster': 'gbtree', 'colsample_bytree': 0.8500000000000001, 'eta': 0.1, 'eval_metric': 'auc', 'gamma': 0.6000000000000001, 'lambda': 1.4000000000000001, 'max_depth': 7, 'min_child_weight': 4.0, 'nthread': 4, 'objective': 'binary:logistic', 'scale_pos_weight': 110.0, 'silent': 0, 'subsample': 0.9, 'tree_method': 'approx'}\n",
      "                                                                               \n",
      "\bSCORE: 0.8663087025089606\n",
      "params:                                                                        \n",
      "{'alpha': 2.0, 'booster': 'gbtree', 'colsample_bytree': 0.8, 'eta': 0.05, 'eval_metric': 'auc', 'gamma': 0.75, 'lambda': 1.5, 'max_depth': 10, 'min_child_weight': 7.0, 'nthread': 4, 'objective': 'binary:logistic', 'scale_pos_weight': 200.0, 'silent': 0, 'subsample': 0.9, 'tree_method': 'approx'}\n",
      "                                                                               \n",
      "\bSCORE: 0.8617561003584229\n",
      "params:                                                                        \n",
      "{'alpha': 4.0, 'booster': 'gbtree', 'colsample_bytree': 0.9500000000000001, 'eta': 0.05, 'eval_metric': 'auc', 'gamma': 0.6000000000000001, 'lambda': 1.9000000000000001, 'max_depth': 7, 'min_child_weight': 3.0, 'nthread': 4, 'objective': 'binary:logistic', 'scale_pos_weight': 160.0, 'silent': 0, 'subsample': 1.0, 'tree_method': 'approx'}\n",
      "                                                                               \n",
      "\bSCORE: 0.8648463369175627\n",
      "params:                                                                        \n",
      "{'alpha': 5.0, 'booster': 'gbtree', 'colsample_bytree': 0.8500000000000001, 'eta': 0.05, 'eval_metric': 'auc', 'gamma': 0.9500000000000001, 'lambda': 1.8, 'max_depth': 10, 'min_child_weight': 1.0, 'nthread': 4, 'objective': 'binary:logistic', 'scale_pos_weight': 100.0, 'silent': 0, 'subsample': 0.9500000000000001, 'tree_method': 'approx'}\n",
      "                                                                               \n",
      "\bSCORE: 0.8658469390681003\n",
      "params:                                                                        \n",
      "{'alpha': 2.0, 'booster': 'gbtree', 'colsample_bytree': 1.0, 'eta': 0.05, 'eval_metric': 'auc', 'gamma': 0.8500000000000001, 'lambda': 1.8, 'max_depth': 3, 'min_child_weight': 3.0, 'nthread': 4, 'objective': 'binary:logistic', 'scale_pos_weight': 110.0, 'silent': 0, 'subsample': 0.9500000000000001, 'tree_method': 'approx'}\n",
      "                                                                               \n",
      "\bSCORE: 0.8628833261648745\n",
      "params:                                                                        \n",
      "{'alpha': 5.0, 'booster': 'gbtree', 'colsample_bytree': 1.0, 'eta': 0.1, 'eval_metric': 'auc', 'gamma': 0.6000000000000001, 'lambda': 1.5, 'max_depth': 8, 'min_child_weight': 6.0, 'nthread': 4, 'objective': 'binary:logistic', 'scale_pos_weight': 130.0, 'silent': 0, 'subsample': 0.8500000000000001, 'tree_method': 'approx'}\n",
      "                                                                               \n",
      "\bSCORE: 0.8620383655913979\n",
      "params:                                                                        \n",
      "{'alpha': 7.0, 'booster': 'gbtree', 'colsample_bytree': 0.9500000000000001, 'eta': 0.07500000000000001, 'eval_metric': 'auc', 'gamma': 0.8500000000000001, 'lambda': 1.1, 'max_depth': 5, 'min_child_weight': 4.0, 'nthread': 4, 'objective': 'binary:logistic', 'scale_pos_weight': 170.0, 'silent': 0, 'subsample': 0.7000000000000001, 'tree_method': 'approx'}\n",
      "                                                                               \n",
      "\bSCORE: 0.8688553978494624\n",
      "params:                                                                        \n",
      "{'alpha': 3.0, 'booster': 'gbtree', 'colsample_bytree': 0.8, 'eta': 0.05, 'eval_metric': 'auc', 'gamma': 0.8, 'lambda': 1.7000000000000002, 'max_depth': 3, 'min_child_weight': 10.0, 'nthread': 4, 'objective': 'binary:logistic', 'scale_pos_weight': 90.0, 'silent': 0, 'subsample': 0.7000000000000001, 'tree_method': 'approx'}\n",
      "                                                                               \n",
      "\bSCORE: 0.8574417204301077\n",
      "params:                                                                        \n",
      "{'alpha': 3.0, 'booster': 'gbtree', 'colsample_bytree': 0.75, 'eta': 0.1, 'eval_metric': 'auc', 'gamma': 0.9, 'lambda': 2.0, 'max_depth': 3, 'min_child_weight': 6.0, 'nthread': 4, 'objective': 'binary:logistic', 'scale_pos_weight': 190.0, 'silent': 0, 'subsample': 0.8500000000000001, 'tree_method': 'approx'}\n",
      "                                                                               \n",
      "\bSCORE: 0.8666758422939069\n",
      "params:                                                                        \n",
      "{'alpha': 8.0, 'booster': 'gbtree', 'colsample_bytree': 0.8500000000000001, 'eta': 0.025, 'eval_metric': 'auc', 'gamma': 0.5, 'lambda': 1.9000000000000001, 'max_depth': 11, 'min_child_weight': 6.0, 'nthread': 4, 'objective': 'binary:logistic', 'scale_pos_weight': 100.0, 'silent': 0, 'subsample': 0.75, 'tree_method': 'approx'}\n",
      "                                                                               \n",
      "\bSCORE: 0.859968458781362\n",
      "params:                                                                        \n",
      "{'alpha': 4.0, 'booster': 'gbtree', 'colsample_bytree': 0.8500000000000001, 'eta': 0.07500000000000001, 'eval_metric': 'auc', 'gamma': 0.65, 'lambda': 1.6, 'max_depth': 6, 'min_child_weight': 8.0, 'nthread': 4, 'objective': 'binary:logistic', 'scale_pos_weight': 140.0, 'silent': 0, 'subsample': 0.9500000000000001, 'tree_method': 'approx'}\n",
      "                                                                               \n",
      "\bSCORE: 0.8659867526881719\n",
      "params:                                                                        \n",
      "{'alpha': 10.0, 'booster': 'gbtree', 'colsample_bytree': 0.8, 'eta': 0.025, 'eval_metric': 'auc', 'gamma': 0.8, 'lambda': 1.7000000000000002, 'max_depth': 13, 'min_child_weight': 9.0, 'nthread': 4, 'objective': 'binary:logistic', 'scale_pos_weight': 60.0, 'silent': 0, 'subsample': 0.8500000000000001, 'tree_method': 'approx'}\n",
      "                                                                               \n",
      "\bSCORE: 0.8630945949820789\n",
      "params:                                                                        \n"
     ]
    },
    {
     "name": "stdout",
     "output_type": "stream",
     "text": [
      "{'alpha': 2.0, 'booster': 'gbtree', 'colsample_bytree': 0.8, 'eta': 0.07500000000000001, 'eval_metric': 'auc', 'gamma': 0.65, 'lambda': 2.0, 'max_depth': 12, 'min_child_weight': 1.0, 'nthread': 4, 'objective': 'binary:logistic', 'scale_pos_weight': 100.0, 'silent': 0, 'subsample': 0.8, 'tree_method': 'approx'}\n",
      "                                                                               \n",
      "\bSCORE: 0.8652694480286738\n",
      "params:                                                                        \n",
      "{'alpha': 1.0, 'booster': 'gbtree', 'colsample_bytree': 1.0, 'eta': 0.05, 'eval_metric': 'auc', 'gamma': 0.9, 'lambda': 1.6, 'max_depth': 2, 'min_child_weight': 10.0, 'nthread': 4, 'objective': 'binary:logistic', 'scale_pos_weight': 90.0, 'silent': 0, 'subsample': 0.9, 'tree_method': 'approx'}\n",
      "                                                                               \n",
      "\bSCORE: 0.8606528458781363\n",
      "params:                                                                        \n",
      "{'alpha': 4.0, 'booster': 'gbtree', 'colsample_bytree': 0.8500000000000001, 'eta': 0.025, 'eval_metric': 'auc', 'gamma': 0.8500000000000001, 'lambda': 1.4000000000000001, 'max_depth': 9, 'min_child_weight': 7.0, 'nthread': 4, 'objective': 'binary:logistic', 'scale_pos_weight': 70.0, 'silent': 0, 'subsample': 1.0, 'tree_method': 'approx'}\n",
      "                                                                               \n",
      "\bSCORE: 0.8658662078853047\n",
      "params:                                                                        \n",
      "{'alpha': 8.0, 'booster': 'gbtree', 'colsample_bytree': 0.75, 'eta': 0.07500000000000001, 'eval_metric': 'auc', 'gamma': 0.6000000000000001, 'lambda': 1.6, 'max_depth': 5, 'min_child_weight': 2.0, 'nthread': 4, 'objective': 'binary:logistic', 'scale_pos_weight': 70.0, 'silent': 0, 'subsample': 0.75, 'tree_method': 'approx'}\n",
      "                                                                               \n",
      "\bSCORE: 0.8694086881720431\n",
      "params:                                                                        \n",
      "{'alpha': 3.0, 'booster': 'gbtree', 'colsample_bytree': 0.8, 'eta': 0.05, 'eval_metric': 'auc', 'gamma': 1.0, 'lambda': 1.4000000000000001, 'max_depth': 10, 'min_child_weight': 8.0, 'nthread': 4, 'objective': 'binary:logistic', 'scale_pos_weight': 90.0, 'silent': 0, 'subsample': 0.8, 'tree_method': 'approx'}\n",
      "                                                                               \n",
      "\bSCORE: 0.752416917562724\n",
      "params:                                                                        \n",
      "{'alpha': 0.0, 'booster': 'gbtree', 'colsample_bytree': 0.75, 'eta': 0.025, 'eval_metric': 'auc', 'gamma': 1.0, 'lambda': 1.3, 'max_depth': 1, 'min_child_weight': 10.0, 'nthread': 4, 'objective': 'binary:logistic', 'scale_pos_weight': 80.0, 'silent': 0, 'subsample': 0.7000000000000001, 'tree_method': 'approx'}\n",
      "                                                                               \n",
      "\bSCORE: 0.8682964874551972\n",
      "params:                                                                        \n",
      "{'alpha': 1.0, 'booster': 'gbtree', 'colsample_bytree': 0.8, 'eta': 0.025, 'eval_metric': 'auc', 'gamma': 0.9500000000000001, 'lambda': 1.3, 'max_depth': 3, 'min_child_weight': 9.0, 'nthread': 4, 'objective': 'binary:logistic', 'scale_pos_weight': 50.0, 'silent': 0, 'subsample': 0.8, 'tree_method': 'approx'}\n",
      "                                                                               \n",
      "\bSCORE: 0.8670099498207886\n",
      "params:                                                                        \n",
      "{'alpha': 3.0, 'booster': 'gbtree', 'colsample_bytree': 0.7000000000000001, 'eta': 0.05, 'eval_metric': 'auc', 'gamma': 0.5, 'lambda': 1.7000000000000002, 'max_depth': 4, 'min_child_weight': 8.0, 'nthread': 4, 'objective': 'binary:logistic', 'scale_pos_weight': 80.0, 'silent': 0, 'subsample': 0.7000000000000001, 'tree_method': 'approx'}\n",
      "                                                                               \n",
      "\bSCORE: 0.8688081433691756\n",
      "params:                                                                        \n",
      "{'alpha': 0.0, 'booster': 'gbtree', 'colsample_bytree': 0.9, 'eta': 0.025, 'eval_metric': 'auc', 'gamma': 1.0, 'lambda': 1.4000000000000001, 'max_depth': 10, 'min_child_weight': 8.0, 'nthread': 4, 'objective': 'binary:logistic', 'scale_pos_weight': 50.0, 'silent': 0, 'subsample': 0.75, 'tree_method': 'approx'}\n",
      "                                                                               \n",
      "\bSCORE: 0.8618553118279569\n",
      "params:                                                                        \n",
      "{'alpha': 3.0, 'booster': 'gbtree', 'colsample_bytree': 0.75, 'eta': 0.05, 'eval_metric': 'auc', 'gamma': 0.75, 'lambda': 1.7000000000000002, 'max_depth': 1, 'min_child_weight': 10.0, 'nthread': 4, 'objective': 'binary:logistic', 'scale_pos_weight': 110.0, 'silent': 0, 'subsample': 0.8, 'tree_method': 'approx'}\n",
      "                                                                               \n",
      "\bSCORE: 0.863713605734767\n",
      "params:                                                                        \n",
      "{'alpha': 1.0, 'booster': 'gbtree', 'colsample_bytree': 0.9, 'eta': 0.05, 'eval_metric': 'auc', 'gamma': 0.8, 'lambda': 1.2000000000000002, 'max_depth': 4, 'min_child_weight': 9.0, 'nthread': 4, 'objective': 'binary:logistic', 'scale_pos_weight': 80.0, 'silent': 0, 'subsample': 0.7000000000000001, 'tree_method': 'approx'}\n",
      "                                                                               \n",
      "\bSCORE: 0.7908099211469535\n",
      "params:                                                                        \n",
      "{'alpha': 3.0, 'booster': 'gbtree', 'colsample_bytree': 0.8, 'eta': 0.025, 'eval_metric': 'auc', 'gamma': 0.9, 'lambda': 1.3, 'max_depth': 3, 'min_child_weight': 7.0, 'nthread': 4, 'objective': 'binary:logistic', 'scale_pos_weight': 60.0, 'silent': 0, 'subsample': 0.75, 'tree_method': 'approx'}\n",
      "                                                                               \n",
      "\bSCORE: 0.863874523297491\n",
      "params:                                                                        \n",
      "{'alpha': 4.0, 'booster': 'gbtree', 'colsample_bytree': 0.7000000000000001, 'eta': 0.07500000000000001, 'eval_metric': 'auc', 'gamma': 0.9500000000000001, 'lambda': 1.5, 'max_depth': 12, 'min_child_weight': 8.0, 'nthread': 4, 'objective': 'binary:logistic', 'scale_pos_weight': 90.0, 'silent': 0, 'subsample': 0.8, 'tree_method': 'approx'}\n",
      "                                                                               \n",
      "\bSCORE: 0.8655507956989248\n",
      "params:                                                                        \n",
      "{'alpha': 6.0, 'booster': 'gbtree', 'colsample_bytree': 0.75, 'eta': 0.05, 'eval_metric': 'auc', 'gamma': 0.7000000000000001, 'lambda': 1.2000000000000002, 'max_depth': 11, 'min_child_weight': 5.0, 'nthread': 4, 'objective': 'binary:logistic', 'scale_pos_weight': 120.0, 'silent': 0, 'subsample': 0.7000000000000001, 'tree_method': 'approx'}\n",
      "                                                                               \n",
      "\bSCORE: 0.8668265519713262\n",
      "params:                                                                        \n",
      "{'alpha': 2.0, 'booster': 'gbtree', 'colsample_bytree': 0.8, 'eta': 0.025, 'eval_metric': 'auc', 'gamma': 0.8, 'lambda': 1.1, 'max_depth': 9, 'min_child_weight': 10.0, 'nthread': 4, 'objective': 'binary:logistic', 'scale_pos_weight': 150.0, 'silent': 0, 'subsample': 0.75, 'tree_method': 'approx'}\n",
      "                                                                               \n",
      "\bSCORE: 0.8655048028673835\n",
      "params:                                                                        \n",
      "{'alpha': 5.0, 'booster': 'gbtree', 'colsample_bytree': 0.9, 'eta': 0.07500000000000001, 'eval_metric': 'auc', 'gamma': 0.7000000000000001, 'lambda': 1.8, 'max_depth': 6, 'min_child_weight': 5.0, 'nthread': 4, 'objective': 'binary:logistic', 'scale_pos_weight': 120.0, 'silent': 0, 'subsample': 0.8500000000000001, 'tree_method': 'approx'}\n",
      "                                                                               \n",
      "\bSCORE: 0.8670081146953406\n",
      "params:                                                                        \n"
     ]
    },
    {
     "name": "stdout",
     "output_type": "stream",
     "text": [
      "{'alpha': 10.0, 'booster': 'gbtree', 'colsample_bytree': 0.7000000000000001, 'eta': 0.05, 'eval_metric': 'auc', 'gamma': 1.0, 'lambda': 1.6, 'max_depth': 8, 'min_child_weight': 9.0, 'nthread': 4, 'objective': 'binary:logistic', 'scale_pos_weight': 90.0, 'silent': 0, 'subsample': 0.8, 'tree_method': 'approx'}\n",
      "                                                                               \n",
      "\bSCORE: 0.8658245734767025\n",
      "params:                                                                        \n",
      "{'alpha': 6.0, 'booster': 'gbtree', 'colsample_bytree': 0.75, 'eta': 0.05, 'eval_metric': 'auc', 'gamma': 0.9500000000000001, 'lambda': 1.0, 'max_depth': 13, 'min_child_weight': 7.0, 'nthread': 4, 'objective': 'binary:logistic', 'scale_pos_weight': 70.0, 'silent': 0, 'subsample': 0.9, 'tree_method': 'approx'}\n",
      "                                                                               \n",
      "\bSCORE: 0.8661816200716846\n",
      "params:                                                                        \n",
      "{'alpha': 7.0, 'booster': 'gbtree', 'colsample_bytree': 0.9, 'eta': 0.05, 'eval_metric': 'auc', 'gamma': 0.55, 'lambda': 1.4000000000000001, 'max_depth': 10, 'min_child_weight': 9.0, 'nthread': 4, 'objective': 'binary:logistic', 'scale_pos_weight': 60.0, 'silent': 0, 'subsample': 0.75, 'tree_method': 'approx'}\n",
      "                                                                               \n",
      "\bSCORE: 0.8537691756272401\n",
      "params:                                                                        \n",
      "{'alpha': 1.0, 'booster': 'gbtree', 'colsample_bytree': 0.8, 'eta': 0.025, 'eval_metric': 'auc', 'gamma': 0.75, 'lambda': 1.7000000000000002, 'max_depth': 2, 'min_child_weight': 8.0, 'nthread': 4, 'objective': 'binary:logistic', 'scale_pos_weight': 140.0, 'silent': 0, 'subsample': 0.8, 'tree_method': 'approx'}\n",
      "                                                                               \n",
      "\bSCORE: 0.8641160716845878\n",
      "params:                                                                        \n",
      "{'alpha': 2.0, 'booster': 'gbtree', 'colsample_bytree': 0.8500000000000001, 'eta': 0.05, 'eval_metric': 'auc', 'gamma': 0.55, 'lambda': 1.5, 'max_depth': 7, 'min_child_weight': 10.0, 'nthread': 4, 'objective': 'binary:logistic', 'scale_pos_weight': 120.0, 'silent': 0, 'subsample': 0.7000000000000001, 'tree_method': 'approx'}\n",
      "                                                                               \n",
      "\bSCORE: 0.8655526308243727\n",
      "params:                                                                        \n",
      "{'alpha': 4.0, 'booster': 'gbtree', 'colsample_bytree': 0.7000000000000001, 'eta': 0.05, 'eval_metric': 'auc', 'gamma': 0.8500000000000001, 'lambda': 1.8, 'max_depth': 10, 'min_child_weight': 7.0, 'nthread': 4, 'objective': 'binary:logistic', 'scale_pos_weight': 100.0, 'silent': 0, 'subsample': 0.9, 'tree_method': 'approx'}\n",
      "                                                                               \n",
      "\bSCORE: 0.8659614050179212\n",
      "params:                                                                        \n",
      "{'alpha': 9.0, 'booster': 'gbtree', 'colsample_bytree': 0.8, 'eta': 0.07500000000000001, 'eval_metric': 'auc', 'gamma': 0.8, 'lambda': 1.9000000000000001, 'max_depth': 3, 'min_child_weight': 9.0, 'nthread': 4, 'objective': 'binary:logistic', 'scale_pos_weight': 180.0, 'silent': 0, 'subsample': 0.75, 'tree_method': 'approx'}\n",
      "                                                                               \n",
      "\bSCORE: 0.8618460215053763\n",
      "params:                                                                        \n",
      "{'alpha': 7.0, 'booster': 'gbtree', 'colsample_bytree': 0.75, 'eta': 0.07500000000000001, 'eval_metric': 'auc', 'gamma': 0.9, 'lambda': 1.3, 'max_depth': 8, 'min_child_weight': 5.0, 'nthread': 4, 'objective': 'binary:logistic', 'scale_pos_weight': 110.0, 'silent': 0, 'subsample': 0.8500000000000001, 'tree_method': 'approx'}\n",
      "                                                                               \n",
      "\bSCORE: 0.8660566021505376\n",
      "params:                                                                        \n",
      "{'alpha': 0.0, 'booster': 'gbtree', 'colsample_bytree': 0.8500000000000001, 'eta': 0.05, 'eval_metric': 'auc', 'gamma': 0.7000000000000001, 'lambda': 1.5, 'max_depth': 10, 'min_child_weight': 8.0, 'nthread': 4, 'objective': 'binary:logistic', 'scale_pos_weight': 130.0, 'silent': 0, 'subsample': 0.9500000000000001, 'tree_method': 'approx'}\n",
      "                                                                               \n",
      "\bSCORE: 0.8593098781362005\n",
      "params:                                                                        \n",
      "{'alpha': 5.0, 'booster': 'gbtree', 'colsample_bytree': 0.8, 'eta': 0.1, 'eval_metric': 'auc', 'gamma': 0.75, 'lambda': 1.4000000000000001, 'max_depth': 7, 'min_child_weight': 4.0, 'nthread': 4, 'objective': 'binary:logistic', 'scale_pos_weight': 90.0, 'silent': 0, 'subsample': 0.8, 'tree_method': 'approx'}\n",
      "                                                                               \n",
      "\bSCORE: 0.8635189677419355\n",
      "params:                                                                        \n",
      "{'alpha': 3.0, 'booster': 'gbtree', 'colsample_bytree': 0.9, 'eta': 0.025, 'eval_metric': 'auc', 'gamma': 0.9500000000000001, 'lambda': 1.1, 'max_depth': 3, 'min_child_weight': 6.0, 'nthread': 4, 'objective': 'binary:logistic', 'scale_pos_weight': 150.0, 'silent': 0, 'subsample': 0.7000000000000001, 'tree_method': 'approx'}\n",
      "                                                                               \n",
      "\bSCORE: 0.8596528172043011\n",
      "params:                                                                        \n",
      "{'alpha': 2.0, 'booster': 'gbtree', 'colsample_bytree': 0.9500000000000001, 'eta': 0.05, 'eval_metric': 'auc', 'gamma': 0.55, 'lambda': 1.6, 'max_depth': 5, 'min_child_weight': 7.0, 'nthread': 4, 'objective': 'binary:logistic', 'scale_pos_weight': 80.0, 'silent': 0, 'subsample': 0.9, 'tree_method': 'approx'}\n",
      "                                                                               \n",
      "\bSCORE: 0.8686042150537635\n",
      "params:                                                                        \n",
      "{'alpha': 4.0, 'booster': 'gbtree', 'colsample_bytree': 0.8500000000000001, 'eta': 0.05, 'eval_metric': 'auc', 'gamma': 0.65, 'lambda': 1.8, 'max_depth': 11, 'min_child_weight': 3.0, 'nthread': 4, 'objective': 'binary:logistic', 'scale_pos_weight': 110.0, 'silent': 0, 'subsample': 0.8500000000000001, 'tree_method': 'approx'}\n",
      "                                                                               \n",
      "\bSCORE: 0.7842477419354839\n",
      "params:                                                                        \n",
      "{'alpha': 6.0, 'booster': 'gbtree', 'colsample_bytree': 0.75, 'eta': 0.025, 'eval_metric': 'auc', 'gamma': 0.8, 'lambda': 2.0, 'max_depth': 6, 'min_child_weight': 10.0, 'nthread': 4, 'objective': 'binary:logistic', 'scale_pos_weight': 100.0, 'silent': 0, 'subsample': 1.0, 'tree_method': 'approx'}\n",
      "                                                                               \n",
      "\bSCORE: 0.86095770609319\n",
      "params:                                                                        \n",
      "{'alpha': 5.0, 'booster': 'gbtree', 'colsample_bytree': 0.7000000000000001, 'eta': 0.07500000000000001, 'eval_metric': 'auc', 'gamma': 0.8500000000000001, 'lambda': 1.0, 'max_depth': 13, 'min_child_weight': 6.0, 'nthread': 4, 'objective': 'binary:logistic', 'scale_pos_weight': 130.0, 'silent': 0, 'subsample': 0.75, 'tree_method': 'approx'}\n",
      "                                                                               \n",
      "\bSCORE: 0.8673853476702509\n",
      "params:                                                                        \n",
      "{'alpha': 3.0, 'booster': 'gbtree', 'colsample_bytree': 0.8, 'eta': 0.05, 'eval_metric': 'auc', 'gamma': 0.7000000000000001, 'lambda': 1.9000000000000001, 'max_depth': 10, 'min_child_weight': 9.0, 'nthread': 4, 'objective': 'binary:logistic', 'scale_pos_weight': 70.0, 'silent': 0, 'subsample': 0.7000000000000001, 'tree_method': 'approx'}\n",
      "                                                                               \n",
      "\bSCORE: 0.8668400860215055\n",
      "params:                                                                        \n"
     ]
    },
    {
     "name": "stdout",
     "output_type": "stream",
     "text": [
      "{'alpha': 1.0, 'booster': 'gbtree', 'colsample_bytree': 0.8500000000000001, 'eta': 0.05, 'eval_metric': 'auc', 'gamma': 0.9, 'lambda': 1.6, 'max_depth': 12, 'min_child_weight': 10.0, 'nthread': 4, 'objective': 'binary:logistic', 'scale_pos_weight': 160.0, 'silent': 0, 'subsample': 0.8500000000000001, 'tree_method': 'approx'}\n",
      "                                                                               \n",
      "\bSCORE: 0.8597246164874552\n",
      "params:                                                                        \n",
      "{'alpha': 2.0, 'booster': 'gbtree', 'colsample_bytree': 0.9500000000000001, 'eta': 0.1, 'eval_metric': 'auc', 'gamma': 1.0, 'lambda': 1.4000000000000001, 'max_depth': 9, 'min_child_weight': 8.0, 'nthread': 4, 'objective': 'binary:logistic', 'scale_pos_weight': 200.0, 'silent': 0, 'subsample': 0.9500000000000001, 'tree_method': 'approx'}\n",
      "                                                                               \n",
      "\bSCORE: 0.8643174767025089\n",
      "params:                                                                        \n",
      "{'alpha': 6.0, 'booster': 'gbtree', 'colsample_bytree': 0.75, 'eta': 0.07500000000000001, 'eval_metric': 'auc', 'gamma': 0.8500000000000001, 'lambda': 1.7000000000000002, 'max_depth': 1, 'min_child_weight': 9.0, 'nthread': 4, 'objective': 'binary:logistic', 'scale_pos_weight': 50.0, 'silent': 0, 'subsample': 0.9, 'tree_method': 'approx'}\n",
      "                                                                               \n",
      "\bSCORE: 0.8551881863799283\n",
      "params:                                                                        \n",
      "{'alpha': 4.0, 'booster': 'gbtree', 'colsample_bytree': 0.8500000000000001, 'eta': 0.025, 'eval_metric': 'auc', 'gamma': 0.65, 'lambda': 1.5, 'max_depth': 2, 'min_child_weight': 7.0, 'nthread': 4, 'objective': 'binary:logistic', 'scale_pos_weight': 60.0, 'silent': 0, 'subsample': 0.75, 'tree_method': 'approx'}\n",
      "                                                                               \n",
      "\bSCORE: 0.865502623655914\n",
      "params:                                                                        \n",
      "{'alpha': 0.0, 'booster': 'gbtree', 'colsample_bytree': 0.8, 'eta': 0.025, 'eval_metric': 'auc', 'gamma': 0.9, 'lambda': 1.2000000000000002, 'max_depth': 3, 'min_child_weight': 2.0, 'nthread': 4, 'objective': 'binary:logistic', 'scale_pos_weight': 90.0, 'silent': 0, 'subsample': 0.8, 'tree_method': 'approx'}\n",
      "                                                                               \n",
      "\bSCORE: 0.8681508243727597\n",
      "params:                                                                        \n",
      "{'alpha': 2.0, 'booster': 'gbtree', 'colsample_bytree': 0.7000000000000001, 'eta': 0.05, 'eval_metric': 'auc', 'gamma': 0.6000000000000001, 'lambda': 1.3, 'max_depth': 10, 'min_child_weight': 10.0, 'nthread': 4, 'objective': 'binary:logistic', 'scale_pos_weight': 120.0, 'silent': 0, 'subsample': 0.8, 'tree_method': 'approx'}\n",
      "                                                                               \n",
      "\bSCORE: 0.864376888888889\n",
      "params:                                                                        \n",
      "{'alpha': 9.0, 'booster': 'gbtree', 'colsample_bytree': 0.75, 'eta': 0.07500000000000001, 'eval_metric': 'auc', 'gamma': 0.8, 'lambda': 1.7000000000000002, 'max_depth': 4, 'min_child_weight': 6.0, 'nthread': 4, 'objective': 'binary:logistic', 'scale_pos_weight': 100.0, 'silent': 0, 'subsample': 0.9500000000000001, 'tree_method': 'approx'}\n",
      "                                                                               \n",
      "\bSCORE: 0.839130265232975\n",
      "params:                                                                        \n",
      "{'alpha': 4.0, 'booster': 'gbtree', 'colsample_bytree': 0.8, 'eta': 0.025, 'eval_metric': 'auc', 'gamma': 1.0, 'lambda': 1.8, 'max_depth': 5, 'min_child_weight': 2.0, 'nthread': 4, 'objective': 'binary:logistic', 'scale_pos_weight': 80.0, 'silent': 0, 'subsample': 0.7000000000000001, 'tree_method': 'approx'}\n",
      "                                                                               \n",
      "\bSCORE: 0.8645825376344087\n",
      "params:                                                                        \n",
      "{'alpha': 3.0, 'booster': 'gbtree', 'colsample_bytree': 0.9, 'eta': 0.05, 'eval_metric': 'auc', 'gamma': 0.9500000000000001, 'lambda': 1.6, 'max_depth': 3, 'min_child_weight': 8.0, 'nthread': 4, 'objective': 'binary:logistic', 'scale_pos_weight': 140.0, 'silent': 0, 'subsample': 0.7000000000000001, 'tree_method': 'approx'}\n",
      "                                                                               \n",
      "\bSCORE: 0.8637637275985663\n",
      "params:                                                                        \n",
      "{'alpha': 5.0, 'booster': 'gbtree', 'colsample_bytree': 1.0, 'eta': 0.07500000000000001, 'eval_metric': 'auc', 'gamma': 0.8500000000000001, 'lambda': 1.4000000000000001, 'max_depth': 7, 'min_child_weight': 4.0, 'nthread': 4, 'objective': 'binary:logistic', 'scale_pos_weight': 110.0, 'silent': 0, 'subsample': 1.0, 'tree_method': 'approx'}\n",
      "                                                                               \n",
      "\bSCORE: 0.8647220071684587\n",
      "params:                                                                        \n",
      "{'alpha': 1.0, 'booster': 'gbtree', 'colsample_bytree': 0.8500000000000001, 'eta': 0.05, 'eval_metric': 'auc', 'gamma': 0.75, 'lambda': 2.0, 'max_depth': 12, 'min_child_weight': 5.0, 'nthread': 4, 'objective': 'binary:logistic', 'scale_pos_weight': 70.0, 'silent': 0, 'subsample': 0.75, 'tree_method': 'approx'}\n",
      "                                                                               \n",
      "\bSCORE: 0.8699224086021506\n",
      "params:                                                                        \n",
      "{'alpha': 3.0, 'booster': 'gbtree', 'colsample_bytree': 0.8, 'eta': 0.025, 'eval_metric': 'auc', 'gamma': 0.5, 'lambda': 1.5, 'max_depth': 8, 'min_child_weight': 9.0, 'nthread': 4, 'objective': 'binary:logistic', 'scale_pos_weight': 60.0, 'silent': 0, 'subsample': 0.8500000000000001, 'tree_method': 'approx'}\n",
      "                                                                               \n",
      "\bSCORE: 0.863139670250896\n",
      "params:                                                                        \n",
      "{'alpha': 3.0, 'booster': 'gbtree', 'colsample_bytree': 0.8, 'eta': 0.1, 'eval_metric': 'auc', 'gamma': 0.5, 'lambda': 1.2000000000000002, 'max_depth': 8, 'min_child_weight': 9.0, 'nthread': 4, 'objective': 'binary:logistic', 'scale_pos_weight': 50.0, 'silent': 0, 'subsample': 0.8500000000000001, 'tree_method': 'approx'}\n",
      "                                                                               \n",
      "\bSCORE: 0.8691903082437276\n",
      "params:                                                                        \n",
      "{'alpha': 1.0, 'booster': 'gbtree', 'colsample_bytree': 0.75, 'eta': 0.025, 'eval_metric': 'auc', 'gamma': 0.55, 'lambda': 1.3, 'max_depth': 8, 'min_child_weight': 7.0, 'nthread': 4, 'objective': 'binary:logistic', 'scale_pos_weight': 60.0, 'silent': 0, 'subsample': 0.9, 'tree_method': 'approx'}\n",
      "                                                                               \n",
      "\bSCORE: 0.8678313978494624\n",
      "params:                                                                        \n",
      "{'alpha': 2.0, 'booster': 'gbtree', 'colsample_bytree': 0.7000000000000001, 'eta': 0.025, 'eval_metric': 'auc', 'gamma': 0.6000000000000001, 'lambda': 1.5, 'max_depth': 8, 'min_child_weight': 8.0, 'nthread': 4, 'objective': 'binary:logistic', 'scale_pos_weight': 80.0, 'silent': 0, 'subsample': 0.8500000000000001, 'tree_method': 'approx'}\n",
      "                                                                               \n",
      "\bSCORE: 0.8658978637992831\n",
      "params:                                                                        \n",
      "{'alpha': 0.0, 'booster': 'gbtree', 'colsample_bytree': 0.9500000000000001, 'eta': 0.025, 'eval_metric': 'auc', 'gamma': 0.65, 'lambda': 1.1, 'max_depth': 8, 'min_child_weight': 6.0, 'nthread': 4, 'objective': 'binary:logistic', 'scale_pos_weight': 190.0, 'silent': 0, 'subsample': 0.8, 'tree_method': 'approx'}\n",
      "                                                                               \n",
      "\bSCORE: 0.868256229390681\n",
      "params:                                                                        \n"
     ]
    },
    {
     "name": "stdout",
     "output_type": "stream",
     "text": [
      "{'alpha': 7.0, 'booster': 'gbtree', 'colsample_bytree': 0.75, 'eta': 0.025, 'eval_metric': 'auc', 'gamma': 0.5, 'lambda': 1.4000000000000001, 'max_depth': 11, 'min_child_weight': 7.0, 'nthread': 4, 'objective': 'binary:logistic', 'scale_pos_weight': 70.0, 'silent': 0, 'subsample': 0.9, 'tree_method': 'approx'}\n",
      "                                                                               \n",
      "\bSCORE: 0.8632552831541219\n",
      "params:                                                                        \n",
      "{'alpha': 4.0, 'booster': 'gbtree', 'colsample_bytree': 0.8500000000000001, 'eta': 0.1, 'eval_metric': 'auc', 'gamma': 0.55, 'lambda': 1.2000000000000002, 'max_depth': 6, 'min_child_weight': 8.0, 'nthread': 4, 'objective': 'binary:logistic', 'scale_pos_weight': 50.0, 'silent': 0, 'subsample': 0.8, 'tree_method': 'approx'}\n",
      "                                                                               \n",
      "\bSCORE: 0.8687148960573476\n",
      "params:                                                                        \n",
      "{'alpha': 1.0, 'booster': 'gbtree', 'colsample_bytree': 0.75, 'eta': 0.025, 'eval_metric': 'auc', 'gamma': 0.5, 'lambda': 1.3, 'max_depth': 8, 'min_child_weight': 7.0, 'nthread': 4, 'objective': 'binary:logistic', 'scale_pos_weight': 60.0, 'silent': 0, 'subsample': 0.9, 'tree_method': 'approx'}\n",
      "                                                                               \n",
      "\bSCORE: 0.8683753978494624\n",
      "params:                                                                        \n",
      "{'alpha': 1.0, 'booster': 'gbtree', 'colsample_bytree': 0.8, 'eta': 0.025, 'eval_metric': 'auc', 'gamma': 0.55, 'lambda': 1.3, 'max_depth': 8, 'min_child_weight': 7.0, 'nthread': 4, 'objective': 'binary:logistic', 'scale_pos_weight': 60.0, 'silent': 0, 'subsample': 0.9, 'tree_method': 'approx'}\n",
      "                                                                               \n",
      "\bSCORE: 0.8696682437275987\n",
      "params:                                                                        \n",
      "{'alpha': 2.0, 'booster': 'gbtree', 'colsample_bytree': 0.75, 'eta': 0.025, 'eval_metric': 'auc', 'gamma': 0.6000000000000001, 'lambda': 1.3, 'max_depth': 8, 'min_child_weight': 9.0, 'nthread': 4, 'objective': 'binary:logistic', 'scale_pos_weight': 70.0, 'silent': 0, 'subsample': 0.8500000000000001, 'tree_method': 'approx'}\n",
      "                                                                               \n",
      "\bSCORE: 0.8686800286738352\n",
      "params:                                                                        \n",
      "{'alpha': 3.0, 'booster': 'gbtree', 'colsample_bytree': 0.7000000000000001, 'eta': 0.025, 'eval_metric': 'auc', 'gamma': 0.6000000000000001, 'lambda': 1.4000000000000001, 'max_depth': 8, 'min_child_weight': 10.0, 'nthread': 4, 'objective': 'binary:logistic', 'scale_pos_weight': 80.0, 'silent': 0, 'subsample': 0.8500000000000001, 'tree_method': 'approx'}\n",
      "                                                                               \n",
      "\bSCORE: 0.7544402580645162\n",
      "params:                                                                        \n",
      "{'alpha': 2.0, 'booster': 'gbtree', 'colsample_bytree': 0.8, 'eta': 0.025, 'eval_metric': 'auc', 'gamma': 0.5, 'lambda': 1.5, 'max_depth': 1, 'min_child_weight': 9.0, 'nthread': 4, 'objective': 'binary:logistic', 'scale_pos_weight': 70.0, 'silent': 0, 'subsample': 0.8500000000000001, 'tree_method': 'approx'}\n",
      "                                                                               \n",
      "\bSCORE: 0.8681078136200717\n",
      "params:                                                                        \n",
      "{'alpha': 4.0, 'booster': 'gbtree', 'colsample_bytree': 0.75, 'eta': 0.025, 'eval_metric': 'auc', 'gamma': 0.65, 'lambda': 1.4000000000000001, 'max_depth': 4, 'min_child_weight': 9.0, 'nthread': 4, 'objective': 'binary:logistic', 'scale_pos_weight': 90.0, 'silent': 0, 'subsample': 0.8500000000000001, 'tree_method': 'approx'}\n",
      "                                                                               \n",
      "\bSCORE: 0.8700317132616486\n",
      "params:                                                                        \n",
      "{'alpha': 3.0, 'booster': 'gbtree', 'colsample_bytree': 0.8, 'eta': 0.025, 'eval_metric': 'auc', 'gamma': 0.7000000000000001, 'lambda': 1.3, 'max_depth': 9, 'min_child_weight': 10.0, 'nthread': 4, 'objective': 'binary:logistic', 'scale_pos_weight': 50.0, 'silent': 0, 'subsample': 0.8, 'tree_method': 'approx'}\n",
      "                                                                               \n",
      "\bSCORE: 0.8686233691756272\n",
      "params:                                                                        \n",
      "{'alpha': 2.0, 'booster': 'gbtree', 'colsample_bytree': 0.7000000000000001, 'eta': 0.025, 'eval_metric': 'auc', 'gamma': 0.7000000000000001, 'lambda': 1.0, 'max_depth': 9, 'min_child_weight': 9.0, 'nthread': 4, 'objective': 'binary:logistic', 'scale_pos_weight': 60.0, 'silent': 0, 'subsample': 0.8500000000000001, 'tree_method': 'approx'}\n",
      "                                                                               \n",
      "\bSCORE: 0.8701511111111111\n",
      "params:                                                                        \n",
      "{'alpha': 0.0, 'booster': 'gbtree', 'colsample_bytree': 0.75, 'eta': 0.025, 'eval_metric': 'auc', 'gamma': 0.6000000000000001, 'lambda': 1.1, 'max_depth': 9, 'min_child_weight': 10.0, 'nthread': 4, 'objective': 'binary:logistic', 'scale_pos_weight': 50.0, 'silent': 0, 'subsample': 0.8, 'tree_method': 'approx'}\n",
      "                                                                               \n",
      "\bSCORE: 0.8702867956989248\n",
      "params:                                                                        \n",
      "{'alpha': 0.0, 'booster': 'gbtree', 'colsample_bytree': 0.8, 'eta': 0.025, 'eval_metric': 'auc', 'gamma': 0.7000000000000001, 'lambda': 1.1, 'max_depth': 9, 'min_child_weight': 10.0, 'nthread': 4, 'objective': 'binary:logistic', 'scale_pos_weight': 50.0, 'silent': 0, 'subsample': 0.8, 'tree_method': 'approx'}\n",
      "                                                                               \n",
      "\bSCORE: 0.8704876272401435\n",
      "params:                                                                        \n",
      "{'alpha': 0.0, 'booster': 'gbtree', 'colsample_bytree': 0.75, 'eta': 0.025, 'eval_metric': 'auc', 'gamma': 0.7000000000000001, 'lambda': 1.1, 'max_depth': 9, 'min_child_weight': 10.0, 'nthread': 4, 'objective': 'binary:logistic', 'scale_pos_weight': 50.0, 'silent': 0, 'subsample': 0.8, 'tree_method': 'approx'}\n",
      "                                                                               \n",
      "\bSCORE: 0.870663111111111\n",
      "params:                                                                        \n",
      "{'alpha': 0.0, 'booster': 'gbtree', 'colsample_bytree': 0.7000000000000001, 'eta': 0.025, 'eval_metric': 'auc', 'gamma': 0.75, 'lambda': 1.1, 'max_depth': 9, 'min_child_weight': 10.0, 'nthread': 4, 'objective': 'binary:logistic', 'scale_pos_weight': 50.0, 'silent': 0, 'subsample': 0.75, 'tree_method': 'approx'}\n",
      "                                                                               \n",
      "\bSCORE: 0.8708399713261649\n",
      "params:                                                                        \n",
      "{'alpha': 0.0, 'booster': 'gbtree', 'colsample_bytree': 0.7000000000000001, 'eta': 0.025, 'eval_metric': 'auc', 'gamma': 0.75, 'lambda': 1.0, 'max_depth': 9, 'min_child_weight': 10.0, 'nthread': 4, 'objective': 'binary:logistic', 'scale_pos_weight': 50.0, 'silent': 0, 'subsample': 0.75, 'tree_method': 'approx'}\n",
      "                                                                               \n",
      "\bSCORE: 0.8607319856630825\n",
      "params:                                                                        \n",
      "{'alpha': 0.0, 'booster': 'gbtree', 'colsample_bytree': 0.7000000000000001, 'eta': 0.025, 'eval_metric': 'auc', 'gamma': 0.75, 'lambda': 1.1, 'max_depth': 9, 'min_child_weight': 1.0, 'nthread': 4, 'objective': 'binary:logistic', 'scale_pos_weight': 170.0, 'silent': 0, 'subsample': 0.75, 'tree_method': 'approx'}\n",
      "                                                                               \n",
      "\bSCORE: 0.8700405448028674\n",
      "params:                                                                        \n"
     ]
    },
    {
     "name": "stdout",
     "output_type": "stream",
     "text": [
      "{'alpha': 0.0, 'booster': 'gbtree', 'colsample_bytree': 0.7000000000000001, 'eta': 0.025, 'eval_metric': 'auc', 'gamma': 0.75, 'lambda': 1.0, 'max_depth': 9, 'min_child_weight': 10.0, 'nthread': 4, 'objective': 'binary:logistic', 'scale_pos_weight': 50.0, 'silent': 0, 'subsample': 0.75, 'tree_method': 'approx'}\n",
      "                                                                               \n",
      "\bSCORE: 0.8678354121863799\n",
      "params:                                                                        \n",
      "{'alpha': 1.0, 'booster': 'gbtree', 'colsample_bytree': 0.7000000000000001, 'eta': 0.025, 'eval_metric': 'auc', 'gamma': 0.8, 'lambda': 1.0, 'max_depth': 9, 'min_child_weight': 10.0, 'nthread': 4, 'objective': 'binary:logistic', 'scale_pos_weight': 150.0, 'silent': 0, 'subsample': 0.75, 'tree_method': 'approx'}\n",
      "                                                                               \n",
      "\bSCORE: 0.8657807598566309\n",
      "params:                                                                        \n",
      "{'alpha': 0.0, 'booster': 'gbtree', 'colsample_bytree': 0.7000000000000001, 'eta': 0.025, 'eval_metric': 'auc', 'gamma': 0.7000000000000001, 'lambda': 1.1, 'max_depth': 9, 'min_child_weight': 3.0, 'nthread': 4, 'objective': 'binary:logistic', 'scale_pos_weight': 70.0, 'silent': 0, 'subsample': 0.7000000000000001, 'tree_method': 'approx'}\n",
      "                                                                               \n",
      "\bSCORE: 0.866782853046595\n",
      "params:                                                                        \n",
      "{'alpha': 1.0, 'booster': 'gbtree', 'colsample_bytree': 0.7000000000000001, 'eta': 0.025, 'eval_metric': 'auc', 'gamma': 0.75, 'lambda': 1.0, 'max_depth': 9, 'min_child_weight': 10.0, 'nthread': 4, 'objective': 'binary:logistic', 'scale_pos_weight': 60.0, 'silent': 0, 'subsample': 0.75, 'tree_method': 'approx'}\n",
      "                                                                               \n",
      "\bSCORE: 0.8665836272401433\n",
      "params:                                                                        \n",
      "{'alpha': 9.0, 'booster': 'gbtree', 'colsample_bytree': 0.7000000000000001, 'eta': 0.05, 'eval_metric': 'auc', 'gamma': 0.8, 'lambda': 1.2000000000000002, 'max_depth': 13, 'min_child_weight': 8.0, 'nthread': 4, 'objective': 'binary:logistic', 'scale_pos_weight': 80.0, 'silent': 0, 'subsample': 0.75, 'tree_method': 'approx'}\n",
      "                                                                               \n",
      "\bSCORE: 0.869416028673835\n",
      "params:                                                                        \n",
      "{'alpha': 0.0, 'booster': 'gbtree', 'colsample_bytree': 0.7000000000000001, 'eta': 0.025, 'eval_metric': 'auc', 'gamma': 0.65, 'lambda': 1.0, 'max_depth': 9, 'min_child_weight': 9.0, 'nthread': 4, 'objective': 'binary:logistic', 'scale_pos_weight': 50.0, 'silent': 0, 'subsample': 0.7000000000000001, 'tree_method': 'approx'}\n",
      "                                                                               \n",
      "\bSCORE: 0.7796443297491038\n",
      "params:                                                                        \n",
      "{'alpha': 1.0, 'booster': 'gbtree', 'colsample_bytree': 0.75, 'eta': 0.025, 'eval_metric': 'auc', 'gamma': 0.75, 'lambda': 1.1, 'max_depth': 2, 'min_child_weight': 10.0, 'nthread': 4, 'objective': 'binary:logistic', 'scale_pos_weight': 70.0, 'silent': 0, 'subsample': 0.75, 'tree_method': 'approx'}\n",
      "                                                                               \n",
      "\bSCORE: 0.8665410752688173\n",
      "params:                                                                        \n",
      "{'alpha': 0.0, 'booster': 'gbtree', 'colsample_bytree': 0.7000000000000001, 'eta': 0.05, 'eval_metric': 'auc', 'gamma': 0.8500000000000001, 'lambda': 1.2000000000000002, 'max_depth': 9, 'min_child_weight': 8.0, 'nthread': 4, 'objective': 'binary:logistic', 'scale_pos_weight': 190.0, 'silent': 0, 'subsample': 0.8, 'tree_method': 'approx'}\n",
      "                                                                               \n",
      "\bSCORE: 0.8642923584229389\n",
      "params:                                                                        \n",
      "{'alpha': 1.0, 'booster': 'gbtree', 'colsample_bytree': 0.7000000000000001, 'eta': 0.025, 'eval_metric': 'auc', 'gamma': 0.8, 'lambda': 1.0, 'max_depth': 5, 'min_child_weight': 9.0, 'nthread': 4, 'objective': 'binary:logistic', 'scale_pos_weight': 60.0, 'silent': 0, 'subsample': 0.7000000000000001, 'tree_method': 'approx'}\n",
      "                                                                               \n",
      "\bSCORE: 0.8657551827956989\n",
      "params:                                                                        \n",
      "{'alpha': 8.0, 'booster': 'gbtree', 'colsample_bytree': 0.75, 'eta': 0.05, 'eval_metric': 'auc', 'gamma': 0.7000000000000001, 'lambda': 1.2000000000000002, 'max_depth': 7, 'min_child_weight': 4.0, 'nthread': 4, 'objective': 'binary:logistic', 'scale_pos_weight': 100.0, 'silent': 0, 'subsample': 0.75, 'tree_method': 'approx'}\n",
      "                                                                               \n",
      "\bSCORE: 0.8675999426523298\n",
      "params:                                                                        \n",
      "{'alpha': 0.0, 'booster': 'gbtree', 'colsample_bytree': 0.7000000000000001, 'eta': 0.025, 'eval_metric': 'auc', 'gamma': 0.75, 'lambda': 1.1, 'max_depth': 9, 'min_child_weight': 3.0, 'nthread': 4, 'objective': 'binary:logistic', 'scale_pos_weight': 80.0, 'silent': 0, 'subsample': 0.75, 'tree_method': 'approx'}\n",
      "                                                                               \n",
      "\bSCORE: 0.8688727168458781\n",
      "params:                                                                        \n",
      "{'alpha': 2.0, 'booster': 'gbtree', 'colsample_bytree': 0.75, 'eta': 0.05, 'eval_metric': 'auc', 'gamma': 0.65, 'lambda': 1.0, 'max_depth': 11, 'min_child_weight': 10.0, 'nthread': 4, 'objective': 'binary:logistic', 'scale_pos_weight': 180.0, 'silent': 0, 'subsample': 0.8, 'tree_method': 'approx'}\n",
      "                                                                               \n",
      "\bSCORE: 0.8666471684587814\n",
      "params:                                                                        \n",
      "{'alpha': 1.0, 'booster': 'gbtree', 'colsample_bytree': 0.7000000000000001, 'eta': 0.025, 'eval_metric': 'auc', 'gamma': 0.8, 'lambda': 1.2000000000000002, 'max_depth': 12, 'min_child_weight': 5.0, 'nthread': 4, 'objective': 'binary:logistic', 'scale_pos_weight': 160.0, 'silent': 0, 'subsample': 0.7000000000000001, 'tree_method': 'approx'}\n",
      "                                                                               \n",
      "\bSCORE: 0.8634296200716846\n",
      "params:                                                                        \n",
      "{'alpha': 10.0, 'booster': 'gbtree', 'colsample_bytree': 0.75, 'eta': 0.025, 'eval_metric': 'auc', 'gamma': 0.7000000000000001, 'lambda': 1.1, 'max_depth': 6, 'min_child_weight': 8.0, 'nthread': 4, 'objective': 'binary:logistic', 'scale_pos_weight': 140.0, 'silent': 0, 'subsample': 0.7000000000000001, 'tree_method': 'approx'}\n",
      "                                                                               \n",
      "\bSCORE: 0.8701156702508961\n",
      "params:                                                                        \n",
      "{'alpha': 0.0, 'booster': 'gbtree', 'colsample_bytree': 0.7000000000000001, 'eta': 0.025, 'eval_metric': 'auc', 'gamma': 0.8500000000000001, 'lambda': 1.0, 'max_depth': 13, 'min_child_weight': 9.0, 'nthread': 4, 'objective': 'binary:logistic', 'scale_pos_weight': 90.0, 'silent': 0, 'subsample': 0.8, 'tree_method': 'approx'}\n",
      "                                                                               \n",
      "\bSCORE: 0.8707333046594982\n",
      "params:                                                                        \n",
      "{'alpha': 2.0, 'booster': 'gbtree', 'colsample_bytree': 0.75, 'eta': 0.05, 'eval_metric': 'auc', 'gamma': 0.7000000000000001, 'lambda': 1.1, 'max_depth': 4, 'min_child_weight': 10.0, 'nthread': 4, 'objective': 'binary:logistic', 'scale_pos_weight': 110.0, 'silent': 0, 'subsample': 0.75, 'tree_method': 'approx'}\n",
      "                                                                               \n",
      "\bSCORE: 0.8624188100358423\n",
      "params:                                                                        \n"
     ]
    },
    {
     "name": "stdout",
     "output_type": "stream",
     "text": [
      "{'alpha': 1.0, 'booster': 'gbtree', 'colsample_bytree': 0.9500000000000001, 'eta': 0.07500000000000001, 'eval_metric': 'auc', 'gamma': 0.65, 'lambda': 1.2000000000000002, 'max_depth': 4, 'min_child_weight': 9.0, 'nthread': 4, 'objective': 'binary:logistic', 'scale_pos_weight': 130.0, 'silent': 0, 'subsample': 0.7000000000000001, 'tree_method': 'approx'}\n",
      "                                                                               \n",
      "\bSCORE: 0.8685656774193548\n",
      "params:                                                                        \n",
      "{'alpha': 2.0, 'booster': 'gbtree', 'colsample_bytree': 0.7000000000000001, 'eta': 0.05, 'eval_metric': 'auc', 'gamma': 0.8, 'lambda': 1.0, 'max_depth': 4, 'min_child_weight': 10.0, 'nthread': 4, 'objective': 'binary:logistic', 'scale_pos_weight': 120.0, 'silent': 0, 'subsample': 0.75, 'tree_method': 'approx'}\n",
      "                                                                               \n",
      "\bSCORE: 0.8525717562724013\n",
      "params:                                                                        \n",
      "{'alpha': 2.0, 'booster': 'gbtree', 'colsample_bytree': 0.75, 'eta': 0.1, 'eval_metric': 'auc', 'gamma': 0.75, 'lambda': 1.2000000000000002, 'max_depth': 4, 'min_child_weight': 2.0, 'nthread': 4, 'objective': 'binary:logistic', 'scale_pos_weight': 150.0, 'silent': 0, 'subsample': 0.7000000000000001, 'tree_method': 'approx'}\n",
      "                                                                               \n",
      "\bSCORE: 0.8660953691756272\n",
      "params:                                                                        \n",
      "{'alpha': 5.0, 'booster': 'gbtree', 'colsample_bytree': 0.7000000000000001, 'eta': 0.07500000000000001, 'eval_metric': 'auc', 'gamma': 0.8500000000000001, 'lambda': 1.1, 'max_depth': 4, 'min_child_weight': 8.0, 'nthread': 4, 'objective': 'binary:logistic', 'scale_pos_weight': 110.0, 'silent': 0, 'subsample': 0.75, 'tree_method': 'approx'}\n",
      "                                                                               \n",
      "\bSCORE: 0.8486094910394264\n",
      "params:                                                                        \n",
      "{'alpha': 1.0, 'booster': 'gbtree', 'colsample_bytree': 0.7000000000000001, 'eta': 0.05, 'eval_metric': 'auc', 'gamma': 0.75, 'lambda': 1.0, 'max_depth': 1, 'min_child_weight': 9.0, 'nthread': 4, 'objective': 'binary:logistic', 'scale_pos_weight': 160.0, 'silent': 0, 'subsample': 0.7000000000000001, 'tree_method': 'approx'}\n",
      "100%|████████| 100/100 [13:54<00:00,  3.97s/it, best loss: 0.12916002867383514]\n",
      "\n",
      "\n",
      "\n",
      " The best hyperparameters:\n",
      "{'alpha': 0.0, 'colsample_bytree': 0.7000000000000001, 'eta': 0.025, 'gamma': 0.75, 'lambda': 1.0, 'max_depth': 8, 'min_child_weight': 10.0, 'n_estimators': 450.0, 'scale_pos_weight': 50.0, 'subsample': 0.75}\n"
     ]
    }
   ],
   "source": [
    "best = fmin(\n",
    "    fn=objective,\n",
    "    space=space,\n",
    "    algo=tpe.suggest,\n",
    "    max_evals=100, # WARNING: increase number of evaluations (it's small for the sake of example)\n",
    "    trials=trials\n",
    ")\n",
    "print(\"\\n\\n\\n The best hyperparameters:\")\n",
    "print(best)"
   ]
  },
  {
   "cell_type": "code",
   "execution_count": 146,
   "metadata": {},
   "outputs": [],
   "source": [
    "params = best"
   ]
  },
  {
   "cell_type": "code",
   "execution_count": 188,
   "metadata": {
    "ExecuteTime": {
     "end_time": "2019-03-05T17:34:58.362104Z",
     "start_time": "2019-03-05T17:34:58.356308Z"
    }
   },
   "outputs": [],
   "source": [
    "params = {\n",
    "    'eta': 0.1, #0.1\n",
    "    'max_depth': 13, #3\n",
    "    'subsample': 0.75, #0.8\n",
    "    'colsample_bytree': 0.7,\n",
    "    \n",
    "    'gamma': 0.5,\n",
    "    'lambda': 1.4,\n",
    "    'alpha': 0,\n",
    "    'min_child_weight': 4, #0\n",
    "    \n",
    "    'eval_metric': 'auc',\n",
    "    'objective': 'binary:logistic' ,\n",
    "    'booster': 'gbtree',\n",
    "    'njobs': -1,\n",
    "    'tree_method': 'approx',\n",
    "    'nthread': 4,\n",
    "    'scale_pos_weight': 170.0\n",
    "}"
   ]
  },
  {
   "cell_type": "code",
   "execution_count": 254,
   "metadata": {},
   "outputs": [],
   "source": [
    "gridsearch_params = [\n",
    "    (max_depth, min_child_weight)\n",
    "    for max_depth in range(3,12)\n",
    "    for min_child_weight in range(0,8)\n",
    "]"
   ]
  },
  {
   "cell_type": "code",
   "execution_count": null,
   "metadata": {},
   "outputs": [],
   "source": [
    "num_boost_round = 999\n",
    "len (gridsearch_params)"
   ]
  },
  {
   "cell_type": "code",
   "execution_count": 256,
   "metadata": {},
   "outputs": [
    {
     "name": "stdout",
     "output_type": "stream",
     "text": [
      "CV with max_depth=3, min_child_weight=0\n",
      "\tAUC 0.8777479999999999 for 1008 rounds\n",
      "CV with max_depth=3, min_child_weight=1\n",
      "\tAUC 0.8792652000000001 for 554 rounds\n",
      "CV with max_depth=3, min_child_weight=2\n",
      "\tAUC 0.8793759999999999 for 538 rounds\n",
      "CV with max_depth=3, min_child_weight=3\n",
      "\tAUC 0.8793008 for 599 rounds\n",
      "CV with max_depth=3, min_child_weight=4\n",
      "\tAUC 0.8795628000000001 for 543 rounds\n",
      "CV with max_depth=3, min_child_weight=5\n",
      "\tAUC 0.8796772 for 616 rounds\n",
      "CV with max_depth=3, min_child_weight=6\n",
      "\tAUC 0.8804130000000001 for 535 rounds\n",
      "CV with max_depth=3, min_child_weight=7\n",
      "\tAUC 0.8794536000000001 for 559 rounds\n",
      "CV with max_depth=4, min_child_weight=0\n",
      "\tAUC 0.876961 for 766 rounds\n",
      "CV with max_depth=4, min_child_weight=1\n",
      "\tAUC 0.8786326000000001 for 312 rounds\n",
      "CV with max_depth=4, min_child_weight=2\n",
      "\tAUC 0.8795912000000001 for 401 rounds\n",
      "CV with max_depth=4, min_child_weight=3\n",
      "\tAUC 0.8798646 for 372 rounds\n",
      "CV with max_depth=4, min_child_weight=4\n",
      "\tAUC 0.8792498 for 386 rounds\n",
      "CV with max_depth=4, min_child_weight=5\n",
      "\tAUC 0.8799418000000001 for 390 rounds\n",
      "CV with max_depth=4, min_child_weight=6\n",
      "\tAUC 0.8797192 for 331 rounds\n",
      "CV with max_depth=4, min_child_weight=7\n",
      "\tAUC 0.8795572 for 398 rounds\n",
      "CV with max_depth=5, min_child_weight=0\n",
      "\tAUC 0.8771166000000001 for 801 rounds\n",
      "CV with max_depth=5, min_child_weight=1\n",
      "\tAUC 0.8775179999999999 for 310 rounds\n",
      "CV with max_depth=5, min_child_weight=2\n",
      "\tAUC 0.8765955999999999 for 401 rounds\n",
      "CV with max_depth=5, min_child_weight=3\n",
      "\tAUC 0.8772032 for 376 rounds\n",
      "CV with max_depth=5, min_child_weight=4\n",
      "\tAUC 0.878241 for 312 rounds\n",
      "CV with max_depth=5, min_child_weight=5\n",
      "\tAUC 0.8792175999999999 for 394 rounds\n",
      "CV with max_depth=5, min_child_weight=6\n",
      "\tAUC 0.8788978000000001 for 291 rounds\n",
      "CV with max_depth=5, min_child_weight=7\n",
      "\tAUC 0.8787824000000001 for 312 rounds\n",
      "CV with max_depth=6, min_child_weight=0\n",
      "\tAUC 0.8763662 for 825 rounds\n",
      "CV with max_depth=6, min_child_weight=1\n",
      "\tAUC 0.8762976 for 328 rounds\n",
      "CV with max_depth=6, min_child_weight=2\n",
      "\tAUC 0.8766883999999999 for 339 rounds\n",
      "CV with max_depth=6, min_child_weight=3\n",
      "\tAUC 0.876698 for 288 rounds\n",
      "CV with max_depth=6, min_child_weight=4\n",
      "\tAUC 0.8753529999999999 for 308 rounds\n",
      "CV with max_depth=6, min_child_weight=5\n",
      "\tAUC 0.8764428000000001 for 278 rounds\n",
      "CV with max_depth=6, min_child_weight=6\n",
      "\tAUC 0.8779703999999999 for 219 rounds\n",
      "CV with max_depth=6, min_child_weight=7\n",
      "\tAUC 0.8769484000000001 for 272 rounds\n",
      "CV with max_depth=7, min_child_weight=0\n",
      "\tAUC 0.8765782 for 803 rounds\n",
      "CV with max_depth=7, min_child_weight=1\n",
      "\tAUC 0.8738272 for 558 rounds\n",
      "CV with max_depth=7, min_child_weight=2\n",
      "\tAUC 0.8757116 for 288 rounds\n",
      "CV with max_depth=7, min_child_weight=3\n",
      "\tAUC 0.8758084 for 308 rounds\n",
      "CV with max_depth=7, min_child_weight=4\n",
      "\tAUC 0.8755919999999999 for 276 rounds\n",
      "CV with max_depth=7, min_child_weight=5\n",
      "\tAUC 0.8758649999999999 for 224 rounds\n",
      "CV with max_depth=7, min_child_weight=6\n",
      "\tAUC 0.8755898 for 276 rounds\n",
      "CV with max_depth=7, min_child_weight=7\n",
      "\tAUC 0.8775563999999999 for 231 rounds\n",
      "CV with max_depth=8, min_child_weight=0\n",
      "\tAUC 0.8769656000000001 for 803 rounds\n",
      "CV with max_depth=8, min_child_weight=1\n",
      "\tAUC 0.8736291999999999 for 921 rounds\n",
      "CV with max_depth=8, min_child_weight=2\n",
      "\tAUC 0.8733167999999999 for 217 rounds\n",
      "CV with max_depth=8, min_child_weight=3\n",
      "\tAUC 0.8742228000000001 for 335 rounds\n",
      "CV with max_depth=8, min_child_weight=4\n",
      "\tAUC 0.8748621999999999 for 358 rounds\n",
      "CV with max_depth=8, min_child_weight=5\n",
      "\tAUC 0.8754002 for 352 rounds\n",
      "CV with max_depth=8, min_child_weight=6\n",
      "\tAUC 0.8763792 for 264 rounds\n",
      "CV with max_depth=8, min_child_weight=7\n",
      "\tAUC 0.8765978000000001 for 229 rounds\n",
      "CV with max_depth=9, min_child_weight=0\n",
      "\tAUC 0.8762424 for 826 rounds\n",
      "CV with max_depth=9, min_child_weight=1\n",
      "\tAUC 0.8739326000000001 for 749 rounds\n",
      "CV with max_depth=9, min_child_weight=2\n",
      "\tAUC 0.8739928000000001 for 431 rounds\n",
      "CV with max_depth=9, min_child_weight=3\n",
      "\tAUC 0.8734360000000001 for 320 rounds\n",
      "CV with max_depth=9, min_child_weight=4\n",
      "\tAUC 0.8743726 for 305 rounds\n",
      "CV with max_depth=9, min_child_weight=5\n",
      "\tAUC 0.8751225999999999 for 193 rounds\n",
      "CV with max_depth=9, min_child_weight=6\n",
      "\tAUC 0.8763796000000001 for 353 rounds\n",
      "CV with max_depth=9, min_child_weight=7\n",
      "\tAUC 0.8766263999999999 for 237 rounds\n",
      "CV with max_depth=10, min_child_weight=0\n",
      "\tAUC 0.8762942 for 832 rounds\n",
      "CV with max_depth=10, min_child_weight=1\n",
      "\tAUC 0.8745768 for 896 rounds\n",
      "CV with max_depth=10, min_child_weight=2\n"
     ]
    },
    {
     "ename": "KeyboardInterrupt",
     "evalue": "",
     "output_type": "error",
     "traceback": [
      "\u001b[1;31m---------------------------------------------------------------------------\u001b[0m",
      "\u001b[1;31mKeyboardInterrupt\u001b[0m                         Traceback (most recent call last)",
      "\u001b[1;32m<ipython-input-256-384547899d4b>\u001b[0m in \u001b[0;36m<module>\u001b[1;34m\u001b[0m\n\u001b[0;32m     21\u001b[0m     cv_results = xgb.cv(params, xgb.DMatrix(data_train, target),\n\u001b[0;32m     22\u001b[0m                   \u001b[0mearly_stopping_rounds\u001b[0m\u001b[1;33m=\u001b[0m\u001b[1;36m100\u001b[0m\u001b[1;33m,\u001b[0m \u001b[0mmaximize\u001b[0m\u001b[1;33m=\u001b[0m\u001b[1;32mTrue\u001b[0m\u001b[1;33m,\u001b[0m\u001b[1;33m\u001b[0m\u001b[1;33m\u001b[0m\u001b[0m\n\u001b[1;32m---> 23\u001b[1;33m                   num_boost_round=10000, nfold=5, stratified=True)\n\u001b[0m\u001b[0;32m     24\u001b[0m \u001b[1;33m\u001b[0m\u001b[0m\n\u001b[0;32m     25\u001b[0m     \u001b[1;31m# Update best MAE\u001b[0m\u001b[1;33m\u001b[0m\u001b[1;33m\u001b[0m\u001b[1;33m\u001b[0m\u001b[0m\n",
      "\u001b[1;32mC:\\work\\Anaconda3\\lib\\site-packages\\xgboost\\training.py\u001b[0m in \u001b[0;36mcv\u001b[1;34m(params, dtrain, num_boost_round, nfold, stratified, folds, metrics, obj, feval, maximize, early_stopping_rounds, fpreproc, as_pandas, verbose_eval, show_stdv, seed, callbacks, shuffle)\u001b[0m\n\u001b[0;32m    443\u001b[0m                            evaluation_result_list=None))\n\u001b[0;32m    444\u001b[0m         \u001b[1;32mfor\u001b[0m \u001b[0mfold\u001b[0m \u001b[1;32min\u001b[0m \u001b[0mcvfolds\u001b[0m\u001b[1;33m:\u001b[0m\u001b[1;33m\u001b[0m\u001b[1;33m\u001b[0m\u001b[0m\n\u001b[1;32m--> 445\u001b[1;33m             \u001b[0mfold\u001b[0m\u001b[1;33m.\u001b[0m\u001b[0mupdate\u001b[0m\u001b[1;33m(\u001b[0m\u001b[0mi\u001b[0m\u001b[1;33m,\u001b[0m \u001b[0mobj\u001b[0m\u001b[1;33m)\u001b[0m\u001b[1;33m\u001b[0m\u001b[1;33m\u001b[0m\u001b[0m\n\u001b[0m\u001b[0;32m    446\u001b[0m         \u001b[0mres\u001b[0m \u001b[1;33m=\u001b[0m \u001b[0maggcv\u001b[0m\u001b[1;33m(\u001b[0m\u001b[1;33m[\u001b[0m\u001b[0mf\u001b[0m\u001b[1;33m.\u001b[0m\u001b[0meval\u001b[0m\u001b[1;33m(\u001b[0m\u001b[0mi\u001b[0m\u001b[1;33m,\u001b[0m \u001b[0mfeval\u001b[0m\u001b[1;33m)\u001b[0m \u001b[1;32mfor\u001b[0m \u001b[0mf\u001b[0m \u001b[1;32min\u001b[0m \u001b[0mcvfolds\u001b[0m\u001b[1;33m]\u001b[0m\u001b[1;33m)\u001b[0m\u001b[1;33m\u001b[0m\u001b[1;33m\u001b[0m\u001b[0m\n\u001b[0;32m    447\u001b[0m \u001b[1;33m\u001b[0m\u001b[0m\n",
      "\u001b[1;32mC:\\work\\Anaconda3\\lib\\site-packages\\xgboost\\training.py\u001b[0m in \u001b[0;36mupdate\u001b[1;34m(self, iteration, fobj)\u001b[0m\n\u001b[0;32m    228\u001b[0m     \u001b[1;32mdef\u001b[0m \u001b[0mupdate\u001b[0m\u001b[1;33m(\u001b[0m\u001b[0mself\u001b[0m\u001b[1;33m,\u001b[0m \u001b[0miteration\u001b[0m\u001b[1;33m,\u001b[0m \u001b[0mfobj\u001b[0m\u001b[1;33m)\u001b[0m\u001b[1;33m:\u001b[0m\u001b[1;33m\u001b[0m\u001b[1;33m\u001b[0m\u001b[0m\n\u001b[0;32m    229\u001b[0m         \u001b[1;34m\"\"\"\"Update the boosters for one iteration\"\"\"\u001b[0m\u001b[1;33m\u001b[0m\u001b[1;33m\u001b[0m\u001b[0m\n\u001b[1;32m--> 230\u001b[1;33m         \u001b[0mself\u001b[0m\u001b[1;33m.\u001b[0m\u001b[0mbst\u001b[0m\u001b[1;33m.\u001b[0m\u001b[0mupdate\u001b[0m\u001b[1;33m(\u001b[0m\u001b[0mself\u001b[0m\u001b[1;33m.\u001b[0m\u001b[0mdtrain\u001b[0m\u001b[1;33m,\u001b[0m \u001b[0miteration\u001b[0m\u001b[1;33m,\u001b[0m \u001b[0mfobj\u001b[0m\u001b[1;33m)\u001b[0m\u001b[1;33m\u001b[0m\u001b[1;33m\u001b[0m\u001b[0m\n\u001b[0m\u001b[0;32m    231\u001b[0m \u001b[1;33m\u001b[0m\u001b[0m\n\u001b[0;32m    232\u001b[0m     \u001b[1;32mdef\u001b[0m \u001b[0meval\u001b[0m\u001b[1;33m(\u001b[0m\u001b[0mself\u001b[0m\u001b[1;33m,\u001b[0m \u001b[0miteration\u001b[0m\u001b[1;33m,\u001b[0m \u001b[0mfeval\u001b[0m\u001b[1;33m)\u001b[0m\u001b[1;33m:\u001b[0m\u001b[1;33m\u001b[0m\u001b[1;33m\u001b[0m\u001b[0m\n",
      "\u001b[1;32mC:\\work\\Anaconda3\\lib\\site-packages\\xgboost\\core.py\u001b[0m in \u001b[0;36mupdate\u001b[1;34m(self, dtrain, iteration, fobj)\u001b[0m\n\u001b[0;32m   1107\u001b[0m         \u001b[1;32mif\u001b[0m \u001b[0mfobj\u001b[0m \u001b[1;32mis\u001b[0m \u001b[1;32mNone\u001b[0m\u001b[1;33m:\u001b[0m\u001b[1;33m\u001b[0m\u001b[1;33m\u001b[0m\u001b[0m\n\u001b[0;32m   1108\u001b[0m             _check_call(_LIB.XGBoosterUpdateOneIter(self.handle, ctypes.c_int(iteration),\n\u001b[1;32m-> 1109\u001b[1;33m                                                     dtrain.handle))\n\u001b[0m\u001b[0;32m   1110\u001b[0m         \u001b[1;32melse\u001b[0m\u001b[1;33m:\u001b[0m\u001b[1;33m\u001b[0m\u001b[1;33m\u001b[0m\u001b[0m\n\u001b[0;32m   1111\u001b[0m             \u001b[0mpred\u001b[0m \u001b[1;33m=\u001b[0m \u001b[0mself\u001b[0m\u001b[1;33m.\u001b[0m\u001b[0mpredict\u001b[0m\u001b[1;33m(\u001b[0m\u001b[0mdtrain\u001b[0m\u001b[1;33m)\u001b[0m\u001b[1;33m\u001b[0m\u001b[1;33m\u001b[0m\u001b[0m\n",
      "\u001b[1;31mKeyboardInterrupt\u001b[0m: "
     ]
    }
   ],
   "source": [
    "max_auc = 0\n",
    "best_params = None\n",
    "for max_depth, min_child_weight in gridsearch_params:\n",
    "    print(\"CV with max_depth={}, min_child_weight={}\".format(\n",
    "                             max_depth,\n",
    "                             min_child_weight))\n",
    "    # Update our parameters\n",
    "    params['max_depth'] = max_depth\n",
    "    params['min_child_weight'] = min_child_weight\n",
    "    # Run CV\n",
    "#    cv_results = xgb.cv(\n",
    "#        params,\n",
    "#        dmtrain,\n",
    "#        num_boost_round=num_boost_round,\n",
    "#        seed=42,\n",
    "#        nfold=5,\n",
    "#        metrics={'auc'},\n",
    "#        early_stopping_rounds=73\n",
    "        #73\n",
    " #   )\n",
    "    cv_results = xgb.cv(params, xgb.DMatrix(data_train, target),\n",
    "                  early_stopping_rounds=100, maximize=True, \n",
    "                  num_boost_round=10000, nfold=5, stratified=True)\n",
    "    \n",
    "    # Update best MAE\n",
    "#    mean_mae = cv_results['test-mae-mean'].min()    \n",
    "    mean_auc = cv_results['test-auc-mean'].max()\n",
    "#    boost_rounds = cv_results['test-mae-mean'].argmin()\n",
    "    boost_rounds = cv_results['test-auc-mean'].argmax()\n",
    "    print(\"\\tAUC {} for {} rounds\".format(mean_auc, boost_rounds))\n",
    "#    if mean_mae < min_mae:    \n",
    "    if mean_auc > max_auc:\n",
    "        max_auc = mean_auc\n",
    "        best_params = (max_depth,min_child_weight)\n",
    "print(\"Best params: {}, {}, AUC: {}\".format(best_params[0], best_params[1], max_auc))"
   ]
  },
  {
   "cell_type": "code",
   "execution_count": 246,
   "metadata": {},
   "outputs": [],
   "source": [
    "gridsearch_params = [\n",
    "    (subsample, colsample)\n",
    "    for subsample in [i/10. for i in range(7,11)]\n",
    "    for colsample in [i/10. for i in range(7,11)]\n",
    "]"
   ]
  },
  {
   "cell_type": "code",
   "execution_count": 252,
   "metadata": {},
   "outputs": [
    {
     "name": "stdout",
     "output_type": "stream",
     "text": [
      "CV with subsample=1.0, colsample=1.0\n",
      "\tAUC 0.8755928000000001 for 417 rounds\n",
      "CV with subsample=1.0, colsample=0.9\n",
      "\tAUC 0.8760705999999999 for 383 rounds\n",
      "CV with subsample=1.0, colsample=0.8\n",
      "\tAUC 0.8759897999999999 for 414 rounds\n",
      "CV with subsample=1.0, colsample=0.7\n",
      "\tAUC 0.8761713999999999 for 415 rounds\n",
      "CV with subsample=0.9, colsample=1.0\n",
      "\tAUC 0.8772196000000001 for 360 rounds\n",
      "CV with subsample=0.9, colsample=0.9\n",
      "\tAUC 0.8769624 for 414 rounds\n",
      "CV with subsample=0.9, colsample=0.8\n",
      "\tAUC 0.8775906000000001 for 405 rounds\n",
      "CV with subsample=0.9, colsample=0.7\n",
      "\tAUC 0.8781674 for 382 rounds\n",
      "CV with subsample=0.8, colsample=1.0\n",
      "\tAUC 0.8778556 for 352 rounds\n",
      "CV with subsample=0.8, colsample=0.9\n",
      "\tAUC 0.8784606 for 411 rounds\n",
      "CV with subsample=0.8, colsample=0.8\n",
      "\tAUC 0.8770932 for 311 rounds\n",
      "CV with subsample=0.8, colsample=0.7\n",
      "\tAUC 0.8784922 for 409 rounds\n",
      "CV with subsample=0.7, colsample=1.0\n",
      "\tAUC 0.8782272000000001 for 317 rounds\n",
      "CV with subsample=0.7, colsample=0.9\n",
      "\tAUC 0.8784646 for 315 rounds\n",
      "CV with subsample=0.7, colsample=0.8\n",
      "\tAUC 0.8792262 for 389 rounds\n",
      "CV with subsample=0.7, colsample=0.7\n",
      "\tAUC 0.8782828 for 313 rounds\n",
      "Best params: 0.7, 0.8, AUC: 0.8792262\n"
     ]
    }
   ],
   "source": [
    "max_auc = 0\n",
    "best_params = None\n",
    "for subsample, colsample in reversed(gridsearch_params):\n",
    "    print(\"CV with subsample={}, colsample={}\".format(\n",
    "                             subsample,\n",
    "                             colsample))\n",
    "    # We update our parameters\n",
    "    params['subsample'] = subsample\n",
    "    params['colsample_bytree'] = colsample\n",
    "    # Run CV\n",
    "#    cv_results = xgb.cv(\n",
    "#        params,\n",
    "#        dmtrain,\n",
    "#        num_boost_round=num_boost_round,\n",
    "#        seed=42,\n",
    "#        nfold=5,\n",
    "#        metrics={'auc'},\n",
    "#        early_stopping_rounds=73\n",
    "#    )\n",
    "    cv_results = xgb.cv(params, xgb.DMatrix(data_train, target),\n",
    "                  early_stopping_rounds=100, maximize=True, \n",
    "                  num_boost_round=10000, nfold=5, stratified=True)\n",
    "    \n",
    "    mean_auc = cv_results['test-auc-mean'].max()\n",
    "    boost_rounds = cv_results['test-auc-mean'].argmax()\n",
    "    print(\"\\tAUC {} for {} rounds\".format(mean_auc, boost_rounds))\n",
    "    if mean_auc > max_auc:\n",
    "        max_auc = mean_auc\n",
    "        best_params = (subsample,colsample)\n",
    "print(\"Best params: {}, {}, AUC: {}\".format(best_params[0], best_params[1], max_auc))"
   ]
  },
  {
   "cell_type": "code",
   "execution_count": 8,
   "metadata": {
    "ExecuteTime": {
     "end_time": "2019-03-05T17:35:57.687397Z",
     "start_time": "2019-03-05T17:35:57.678823Z"
    }
   },
   "outputs": [],
   "source": [
    "def features_creation_my1(x): \n",
    "    features = []\n",
    "#Cross-validation, ROC AUC: 0.876+-0.010, Trees: 309\n",
    "    features.append(pd.Series(x['mcc_code'].value_counts(normalize=True).add_prefix('mcc_')))\n",
    "\n",
    "#Cross-validation, ROC AUC: 0.853+-0.010, Trees: 647\n",
    "#    features.append(pd.Series(x['mcc_hour'].value_counts(normalize=True).add_prefix('mcch_')))\n",
    "\n",
    "#Cross-validation, ROC AUC: 0.705+-0.019, Trees: 238\n",
    "#    features.append(pd.Series(x['tr_type'].value_counts(normalize=True).add_prefix('tr_')))\n",
    "#    features.append(pd.Series(x['mcc_tr'].value_counts(normalize=True).add_prefix('mcc_tr_')))\n",
    "    features.append(pd.Series(x['day'].value_counts(normalize=True).add_prefix('day_')))\n",
    "    features.append(pd.Series(x['hour'].value_counts(normalize=True).add_prefix('hour_')))\n",
    "    features.append(pd.Series(x['night'].value_counts(normalize=True).add_prefix('night_')))\n",
    "    features.append(pd.Series(x[x['amount']>0]['amount'].agg(['min', 'max', 'mean', 'median', 'std', 'count'])\\\n",
    "                                                        .add_prefix('positive_transactions_')))\n",
    "    features.append(pd.Series(x[x['amount']<0]['amount'].agg(['min', 'max', 'mean', 'median', 'std', 'count'])\\\n",
    "                                                        .add_prefix('negative_transactions_')))\n",
    " \n",
    "    return pd.concat(features)"
   ]
  },
  {
   "cell_type": "code",
   "execution_count": 9,
   "metadata": {
    "ExecuteTime": {
     "end_time": "2019-03-05T17:37:19.784321Z",
     "start_time": "2019-03-05T17:35:57.688448Z"
    }
   },
   "outputs": [
    {
     "data": {
      "application/vnd.jupyter.widget-view+json": {
       "model_id": "444c5a1a23fc4050bebbf64ca2b3d3d1",
       "version_major": 2,
       "version_minor": 0
      },
      "text/plain": [
       "HBox(children=(IntProgress(value=0, description='Progress:', max=8400, style=ProgressStyle(description_width='…"
      ]
     },
     "metadata": {},
     "output_type": "display_data"
    },
    {
     "name": "stdout",
     "output_type": "stream",
     "text": [
      "\n"
     ]
    },
    {
     "data": {
      "application/vnd.jupyter.widget-view+json": {
       "model_id": "0e66068d6f24454aa63fc2af91f23d59",
       "version_major": 2,
       "version_minor": 0
      },
      "text/plain": [
       "HBox(children=(IntProgress(value=0, description='Progress:', max=3600, style=ProgressStyle(description_width='…"
      ]
     },
     "metadata": {},
     "output_type": "display_data"
    },
    {
     "name": "stdout",
     "output_type": "stream",
     "text": [
      "\n"
     ]
    }
   ],
   "source": [
    "data_train = transactions_train.groupby(transactions_train.index)\\\n",
    "                               .progress_apply(features_creation_my1).unstack(-1)\n",
    "data_test = transactions_test.groupby(transactions_test.index)\\\n",
    "                             .progress_apply(features_creation_my1).unstack(-1)"
   ]
  },
  {
   "cell_type": "code",
   "execution_count": 280,
   "metadata": {},
   "outputs": [
    {
     "name": "stdout",
     "output_type": "stream",
     "text": [
      "[0, 1, 2, 3, 4, 5]\n",
      "[6, 7, 8, 9, 10]\n"
     ]
    }
   ],
   "source": [
    "temp_=[0,1,2,3,4,5,6,7,8,9,10]\n",
    "print (temp_[:6])\n",
    "print (temp_[6:])\n",
    "train_size = 4200"
   ]
  },
  {
   "cell_type": "code",
   "execution_count": 281,
   "metadata": {},
   "outputs": [],
   "source": [
    "dmtrain= xgb.DMatrix(data_train[:train_size].values, target[:train_size], feature_names=list(data_train.columns))\n",
    "dmvalid= xgb.DMatrix(data_train[train_size:].values, target[train_size:], feature_names=list(data_train.columns))"
   ]
  },
  {
   "cell_type": "code",
   "execution_count": 232,
   "metadata": {},
   "outputs": [],
   "source": [
    "def opt_params(param_range, text_opt):\n",
    "    max_auc = 0\n",
    "    best_params = None\n",
    "    for param_x in param_range:\n",
    "        print(\"CV with \", text_opt,\"={}\".format(param_x))\n",
    "        # We update our parameters\n",
    "        params[text_opt] = param_x\n",
    "        # Run CV\n",
    "        cv_results = xgb.cv(\n",
    "            params,\n",
    "            dmtrain,\n",
    "            num_boost_round=num_boost_round,\n",
    "            seed=42,\n",
    "            nfold=5,\n",
    "            metrics={'auc'},\n",
    "            early_stopping_rounds=73\n",
    "            )\n",
    "        # Update best MAE\n",
    "        mean_auc = cv_results['test-auc-mean'].max()\n",
    "        boost_rounds = cv_results['test-auc-mean'].argmax()\n",
    "        print(\"\\tAUC {} for {} rounds\".format(mean_auc, boost_rounds))\n",
    "        if mean_auc > max_auc:\n",
    "            max_auc = mean_auc\n",
    "            best_params = param_x\n",
    "    return text_opt, best_params, max_auc"
   ]
  },
  {
   "cell_type": "code",
   "execution_count": 236,
   "metadata": {},
   "outputs": [],
   "source": [
    "def opt_params_cv(param_range, text_opt):\n",
    "    max_auc = 0\n",
    "    best_params = None\n",
    "    for param_x in param_range:\n",
    "        print(\"CV with \", text_opt,\"={}\".format(param_x))\n",
    "        # We update our parameters\n",
    "        params[text_opt] = param_x\n",
    "        # Run CV\n",
    "        mean_auc = cv_score(params, data_train, target)[0]\n",
    "        if mean_auc > max_auc:\n",
    "            max_auc = mean_auc\n",
    "            best_params = param_x\n",
    "    return text_opt, best_params, max_auc"
   ]
  },
  {
   "cell_type": "code",
   "execution_count": 239,
   "metadata": {},
   "outputs": [
    {
     "name": "stdout",
     "output_type": "stream",
     "text": [
      "CV with  eta =0.3\n",
      "Cross-validation, ROC AUC: 0.867+-0.013, Trees: 75\n",
      "CV with  eta =0.2\n",
      "Cross-validation, ROC AUC: 0.872+-0.008, Trees: 101\n",
      "CV with  eta =0.1\n",
      "Cross-validation, ROC AUC: 0.878+-0.010, Trees: 189\n",
      "CV with  eta =0.05\n",
      "Cross-validation, ROC AUC: 0.880+-0.010, Trees: 372\n",
      "CV with  eta =0.01\n",
      "Cross-validation, ROC AUC: 0.879+-0.010, Trees: 1607\n",
      "CV with  eta =0.005\n",
      "Cross-validation, ROC AUC: 0.878+-0.010, Trees: 2821\n"
     ]
    },
    {
     "data": {
      "text/plain": [
       "('eta', 0.05, 0.8795428)"
      ]
     },
     "execution_count": 239,
     "metadata": {},
     "output_type": "execute_result"
    }
   ],
   "source": [
    "num_boost_round = 999\n",
    "opt_params_cv([.3, .2, .1, .05, .01, .005], \"eta\")\n",
    "#print(\"Best params: {}, AUC: {}\".format(best_params, max_auc))"
   ]
  },
  {
   "cell_type": "code",
   "execution_count": 243,
   "metadata": {},
   "outputs": [
    {
     "name": "stdout",
     "output_type": "stream",
     "text": [
      "CV with  gamma =0.5\n",
      "Cross-validation, ROC AUC: 0.879+-0.009, Trees: 387\n",
      "CV with  gamma =0.55\n",
      "Cross-validation, ROC AUC: 0.879+-0.009, Trees: 389\n",
      "CV with  gamma =0.6000000000000001\n",
      "Cross-validation, ROC AUC: 0.879+-0.010, Trees: 394\n",
      "CV with  gamma =0.6500000000000001\n",
      "Cross-validation, ROC AUC: 0.879+-0.010, Trees: 376\n",
      "CV with  gamma =0.7000000000000002\n",
      "Cross-validation, ROC AUC: 0.878+-0.010, Trees: 339\n",
      "CV with  gamma =0.7500000000000002\n",
      "Cross-validation, ROC AUC: 0.878+-0.010, Trees: 339\n",
      "CV with  gamma =0.8000000000000003\n",
      "Cross-validation, ROC AUC: 0.878+-0.010, Trees: 339\n",
      "CV with  gamma =0.8500000000000003\n",
      "Cross-validation, ROC AUC: 0.878+-0.010, Trees: 339\n",
      "CV with  gamma =0.9000000000000004\n",
      "Cross-validation, ROC AUC: 0.879+-0.010, Trees: 369\n",
      "CV with  gamma =0.9500000000000004\n",
      "Cross-validation, ROC AUC: 0.878+-0.010, Trees: 330\n",
      "best param - ('gamma', 0.55, 0.8792262)\n"
     ]
    }
   ],
   "source": [
    "print (\"best param -\",opt_params_cv(np.arange(0.5, 1, 0.05), \"gamma\")) #'gamma', 0.5, 1, 0.05"
   ]
  },
  {
   "cell_type": "code",
   "execution_count": 208,
   "metadata": {},
   "outputs": [
    {
     "name": "stdout",
     "output_type": "stream",
     "text": [
      "CV with  alpha =0\n",
      "\tAUC 0.882091 for 603 rounds\n",
      "CV with  alpha =1\n",
      "\tAUC 0.8810466 for 604 rounds\n",
      "CV with  alpha =2\n",
      "\tAUC 0.880774 for 561 rounds\n",
      "CV with  alpha =3\n",
      "\tAUC 0.8795006000000001 for 528 rounds\n",
      "CV with  alpha =4\n",
      "\tAUC 0.8793846000000001 for 480 rounds\n",
      "CV with  alpha =5\n",
      "\tAUC 0.8782835999999999 for 505 rounds\n",
      "CV with  alpha =6\n",
      "\tAUC 0.8783915999999999 for 571 rounds\n",
      "CV with  alpha =7\n",
      "\tAUC 0.8776746000000001 for 570 rounds\n",
      "CV with  alpha =8\n",
      "\tAUC 0.8780469999999999 for 643 rounds\n",
      "CV with  alpha =9\n",
      "\tAUC 0.8773896000000001 for 571 rounds\n",
      "best param - ('alpha', 0, 0.882091)\n"
     ]
    }
   ],
   "source": [
    "print (\"best param -\",opt_params(range(0, 10, 1), \"alpha\")) #'alpha', 0, 10, 1"
   ]
  },
  {
   "cell_type": "code",
   "execution_count": 237,
   "metadata": {},
   "outputs": [
    {
     "name": "stdout",
     "output_type": "stream",
     "text": [
      "CV with  lambda =0.0\n",
      "Cross-validation, ROC AUC: 0.880+-0.010, Trees: 372\n",
      "CV with  lambda =0.1\n",
      "Cross-validation, ROC AUC: 0.878+-0.009, Trees: 317\n",
      "CV with  lambda =0.2\n",
      "Cross-validation, ROC AUC: 0.879+-0.010, Trees: 397\n",
      "CV with  lambda =0.30000000000000004\n",
      "Cross-validation, ROC AUC: 0.879+-0.010, Trees: 372\n",
      "CV with  lambda =0.4\n",
      "Cross-validation, ROC AUC: 0.878+-0.010, Trees: 333\n",
      "CV with  lambda =0.5\n",
      "Cross-validation, ROC AUC: 0.879+-0.010, Trees: 368\n",
      "CV with  lambda =0.6000000000000001\n",
      "Cross-validation, ROC AUC: 0.879+-0.010, Trees: 394\n",
      "CV with  lambda =0.7000000000000001\n",
      "Cross-validation, ROC AUC: 0.878+-0.009, Trees: 339\n",
      "CV with  lambda =0.8\n",
      "Cross-validation, ROC AUC: 0.879+-0.010, Trees: 333\n",
      "CV with  lambda =0.9\n",
      "Cross-validation, ROC AUC: 0.880+-0.010, Trees: 422\n",
      "CV with  lambda =1.0\n",
      "Cross-validation, ROC AUC: 0.879+-0.010, Trees: 421\n",
      "CV with  lambda =1.1\n",
      "Cross-validation, ROC AUC: 0.879+-0.010, Trees: 368\n",
      "CV with  lambda =1.2000000000000002\n",
      "Cross-validation, ROC AUC: 0.879+-0.010, Trees: 378\n",
      "CV with  lambda =1.3\n",
      "Cross-validation, ROC AUC: 0.879+-0.010, Trees: 368\n",
      "CV with  lambda =1.4000000000000001\n",
      "Cross-validation, ROC AUC: 0.879+-0.010, Trees: 376\n",
      "CV with  lambda =1.5\n",
      "Cross-validation, ROC AUC: 0.878+-0.009, Trees: 368\n",
      "CV with  lambda =1.6\n",
      "Cross-validation, ROC AUC: 0.879+-0.009, Trees: 398\n",
      "CV with  lambda =1.7000000000000002\n",
      "Cross-validation, ROC AUC: 0.878+-0.010, Trees: 376\n",
      "CV with  lambda =1.8\n",
      "Cross-validation, ROC AUC: 0.879+-0.010, Trees: 376\n",
      "CV with  lambda =1.9000000000000001\n",
      "Cross-validation, ROC AUC: 0.879+-0.009, Trees: 371\n",
      "best param - ('lambda', 0.9, 0.8795767999999999)\n"
     ]
    }
   ],
   "source": [
    "#print (\"best param -\",opt_params(np.arange(0, 2, 0.1), \"lambda\")) #'lambda', 1, 2, 0.1\n",
    "print (\"best param -\",opt_params_cv(np.arange(0, 2, 0.1), \"lambda\")) #'lambda', 1, 2, 0.1"
   ]
  },
  {
   "cell_type": "code",
   "execution_count": 229,
   "metadata": {},
   "outputs": [],
   "source": [
    "#print (\"best param -\",opt_params(range(0, 200, 10), \"scale_pos_weight\")) #'scale_pos_weight', 50, 200, 10"
   ]
  },
  {
   "cell_type": "code",
   "execution_count": 257,
   "metadata": {
    "ExecuteTime": {
     "end_time": "2019-03-05T17:34:58.362104Z",
     "start_time": "2019-03-05T17:34:58.356308Z"
    }
   },
   "outputs": [],
   "source": [
    "params = {\n",
    "    'eta': 0.05, #0.1\n",
    "    'max_depth': 3, #3\n",
    "    'subsample': 0.7, #0.8\n",
    "    'colsample_bytree': 0.8,\n",
    "    \n",
    "    'gamma': 0.55, #0\n",
    "    'lambda': 0,\n",
    "    'alpha': 0,\n",
    "    'min_child_weight': 4, #0\n",
    "    \n",
    "    'eval_metric': 'auc',\n",
    "    'objective': 'binary:logistic' ,\n",
    "    'booster': 'gbtree',\n",
    "    'njobs': -1,\n",
    "    'tree_method': 'approx'\n",
    "}"
   ]
  },
  {
   "cell_type": "code",
   "execution_count": 148,
   "metadata": {
    "ExecuteTime": {
     "end_time": "2019-03-05T17:37:27.200528Z",
     "start_time": "2019-03-05T17:37:19.785535Z"
    }
   },
   "outputs": [],
   "source": [
    "target = data_train.join(gender_train, how='inner')['gender']\n",
    "#cv_score(xgb_reg_params, data_train, target)"
   ]
  },
  {
   "cell_type": "code",
   "execution_count": 258,
   "metadata": {},
   "outputs": [
    {
     "name": "stdout",
     "output_type": "stream",
     "text": [
      "Cross-validation, ROC AUC: 0.879+-0.009, Trees: 389\n"
     ]
    },
    {
     "data": {
      "text/plain": [
       "(0.8792262, 0.009485198308944294)"
      ]
     },
     "execution_count": 258,
     "metadata": {},
     "output_type": "execute_result"
    }
   ],
   "source": [
    "cv_score(params, data_train, target)"
   ]
  },
  {
   "cell_type": "code",
   "execution_count": null,
   "metadata": {
    "ExecuteTime": {
     "end_time": "2019-03-05T17:37:28.307548Z",
     "start_time": "2019-03-05T17:37:27.205214Z"
    }
   },
   "outputs": [],
   "source": [
    "### Число деревьев для XGBoost имеет смысл выятавлять по результатам на кросс-валидации \n",
    "clf, submission = fit_predict(params, 372, data_train, data_test, target)\n",
    "#clf, submission = fit_predict(params, 70, data_train, data_test, target)"
   ]
  },
  {
   "cell_type": "code",
   "execution_count": null,
   "metadata": {
    "ExecuteTime": {
     "end_time": "2019-03-05T17:37:28.426836Z",
     "start_time": "2019-03-05T17:37:28.308620Z"
    },
    "scrolled": false
   },
   "outputs": [],
   "source": [
    "#draw_feature_importances(clf, 10)"
   ]
  },
  {
   "cell_type": "code",
   "execution_count": null,
   "metadata": {},
   "outputs": [],
   "source": [
    "submission.to_csv('../data/gender_test_kaggle_sample_submission.csv')"
   ]
  }
 ],
 "metadata": {
  "hide_input": false,
  "kernelspec": {
   "display_name": "Python 3",
   "language": "python",
   "name": "python3"
  },
  "language_info": {
   "codemirror_mode": {
    "name": "ipython",
    "version": 3
   },
   "file_extension": ".py",
   "mimetype": "text/x-python",
   "name": "python",
   "nbconvert_exporter": "python",
   "pygments_lexer": "ipython3",
   "version": "3.7.3"
  },
  "varInspector": {
   "cols": {
    "lenName": 16,
    "lenType": 16,
    "lenVar": 40
   },
   "kernels_config": {
    "python": {
     "delete_cmd_postfix": "",
     "delete_cmd_prefix": "del ",
     "library": "var_list.py",
     "varRefreshCmd": "print(var_dic_list())"
    },
    "r": {
     "delete_cmd_postfix": ") ",
     "delete_cmd_prefix": "rm(",
     "library": "var_list.r",
     "varRefreshCmd": "cat(var_dic_list()) "
    }
   },
   "types_to_exclude": [
    "module",
    "function",
    "builtin_function_or_method",
    "instance",
    "_Feature"
   ],
   "window_display": false
  }
 },
 "nbformat": 4,
 "nbformat_minor": 2
}
