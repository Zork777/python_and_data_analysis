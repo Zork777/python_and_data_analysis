{
 "cells": [
  {
   "cell_type": "markdown",
   "metadata": {},
   "source": [
    "# <center> Homework 1 (Topics 1-4: Data Structures, Indexing, Cleaning Data, Math)"
   ]
  },
  {
   "cell_type": "code",
   "execution_count": 1,
   "metadata": {
    "ExecuteTime": {
     "end_time": "2019-02-11T12:32:15.107156Z",
     "start_time": "2019-02-11T12:32:14.959796Z"
    }
   },
   "outputs": [],
   "source": [
    "import pandas as pd\n",
    "import numpy as np"
   ]
  },
  {
   "cell_type": "markdown",
   "metadata": {},
   "source": [
    "#### Task 1. \n",
    "Задание:\n",
    "1. Создайте Series из последовательности 15 значений, равномерно разбивающих отрезок [0, 20]. \n",
    "2. Определите отношение элементов полученной серии к их предыдущим элементам (\\*). \n",
    "3. В результате необходимо получить среднее полученного вектора, оставив в нём только те значения, которые не более чем 1.5 (\\**). \n",
    "\n",
    "Выберите из ответов тот, который максимально близок к полученному (c точки зрения абсолютной разницы).\n",
    "\n",
    "#### Варианты ответов:\n",
    "    - 1) 1.24\n",
    "    + 2) 1.18\n",
    "    - 3) 0.71\n",
    "    - 4) 1.13\n",
    "\n",
    "\n",
    "##### Пояснения:\n",
    "(\\*) Если было бы необходимо найти последовательность из 3-х значений,  \n",
    "равномерно разбивающих отрезок [0,1], то это были бы значения [0, 0.5, 1]. \n",
    "\n",
    "(\\**) Если был бы дан список элементов a = [1,2,3,12], отношения элементов к предыдущим будут равны [NaN, 2, 1.5, 4].  \n",
    "А на последнем этапе в таком примере останется только [1.5] и среднее значение будет также 1.5."
   ]
  },
  {
   "cell_type": "code",
   "execution_count": 2,
   "metadata": {},
   "outputs": [
    {
     "name": "stdout",
     "output_type": "stream",
     "text": [
      "1.181677812927813\n"
     ]
    }
   ],
   "source": [
    "### Type your code here\n",
    "ser_1 = pd.Series (np.linspace (0, 20, 15))\n",
    "#print (ser_1)\n",
    "ser_2 = (pd.Series (ser_1.real [1:]) / ser_1)\n",
    "#print (ser_2)\n",
    "print (ser_2[(ser_2 <= 1.5)].mean())"
   ]
  },
  {
   "cell_type": "markdown",
   "metadata": {},
   "source": [
    "#### Task 2. \n",
    "Выберите все верные ответы касательно следующих 3-х Series:\n",
    "    - pd.Series('abcde'); (1) \n",
    "    - pd.Series(['abcde']); (2) \n",
    "    - pd.Series(list('abcde')); (3)\n",
    "    - pd.Series(\"abcde\"); (4)\n",
    "\n",
    "#### Вопросы:\n",
    "    + 1) Серия (1) совпадает с серией (2), так как в каждом из случаев серия создаётся из списка строк \n",
    "    - 2) Серия (2) совпадает с серией (3), так как в каждом из случаев серия создаётся из списка символов \n",
    "    - 3) Серия (1) не совпадает с серией (4), так как в (4) используются двойные кавычки \"\" вместо одинарных '' "
   ]
  },
  {
   "cell_type": "code",
   "execution_count": 3,
   "metadata": {},
   "outputs": [
    {
     "name": "stdout",
     "output_type": "stream",
     "text": [
      "0    abcde\n",
      "dtype: object\n",
      "0    abcde\n",
      "dtype: object\n",
      "0    a\n",
      "1    b\n",
      "2    c\n",
      "3    d\n",
      "4    e\n",
      "dtype: object\n",
      "0    abcde\n",
      "dtype: object\n"
     ]
    }
   ],
   "source": [
    "ser1 = pd.Series('abcde')\n",
    "print (ser1)\n",
    "ser2 = pd.Series(['abcde'])\n",
    "print (ser2)\n",
    "ser3 = pd.Series(list('abcde'))\n",
    "print (ser3)\n",
    "ser4 = pd.Series(\"abcde\")\n",
    "print (ser4)"
   ]
  },
  {
   "cell_type": "markdown",
   "metadata": {},
   "source": [
    "#### Task 3. \n",
    "Для заданного ниже объекта s типа Series проделайте следующее:\n",
    "1. Создайте новый Series, значения которого совпадают со значениями s, а индексы - целочисленные значения от 2 до 12. \n",
    "2. Выберите из s элементы с индексами 3 и 5, после чего просуммируйте их, сохранив результат (1). \n",
    "3. Выберите из s только целочисленные элементы и вычислите их дисперсию (2). (\\*)\n",
    "\n",
    "Все полученные результаты округлите до 2-х знаков после запятой.\n",
    "\n",
    "#### Выберите все верные пункты:\n",
    "    - 1) Ответ (1) - 642.52\n",
    "    - 2) Ответ (1) - 91.78\n",
    "    + 3) Ответ (1) - не может быть определён\n",
    "    + 4) Ответ (2) - 57591.19\n",
    "    - 5) Ответ (2) - 210.12\n",
    "    - 6) Ответ (2) - не может быть определён\n",
    "\n",
    "##### Пояснения:\n",
    "(\\*) Целочисленные значения - значения, имеющие тип int."
   ]
  },
  {
   "cell_type": "code",
   "execution_count": 4,
   "metadata": {},
   "outputs": [
    {
     "name": "stdout",
     "output_type": "stream",
     "text": [
      "12     hi!\n",
      "16    -512\n",
      "dtype: object\n",
      "57591.1875\n"
     ]
    }
   ],
   "source": [
    "s = pd.Series(data=['1', 2, 3.1, 'hi!', 5, -512, 12.42, 'sber', 10.10, 98], \n",
    "              index=range(6, 26, 2))\n",
    "a = pd.Series (s.real, index=range(2, 12))\n",
    "print (s.iloc[[3, 5]])\n",
    "b=[]\n",
    "for x in s:\n",
    "    if (type (x) is int):\n",
    "        b.append(x)\n",
    "print (np.var(b))\n",
    "#s [lambda x: x.real]\n",
    "#print (b)\n",
    "#print (type(s.real) is int)\n",
    "\n"
   ]
  },
  {
   "cell_type": "markdown",
   "metadata": {},
   "source": [
    "#### Task 4. \n",
    "1. Сгенерируйте Series из 100 значений нормально распределённой СВ (np.random.normal с дефолтными параметрами - нулевым средним и единичной дисперсией).\n",
    "2. Возведите каждое значение серии в 3 степень, а значения индекса увеличьте в 3 раза. \n",
    "3. Ответьте на следующие вопросы через запятую (без пробелов) (\\*)\n",
    "    - 1) Выведите сумму элементов, строго меньших 2.6, имеющих нечётные значения индекса.\n",
    "    - 2) Выведите количество значений серии меньше нуля. \n",
    "\n",
    "#### Пояснения:\n",
    "(\\*) Если получились ответы 3, 4.32, то в форму необходимо внести их в виде \"3,4.32\". То есть вещественные числа необходимо разделять точками. Не забудьте про фиксированный seed (его менять не нужно)!\n",
    "сумму элементов, строго меньших 2.6:  0   -15.150748\n",
    "dtype: float64\n",
    "количество значений серии меньше нуля:  0    51"
   ]
  },
  {
   "cell_type": "code",
   "execution_count": 52,
   "metadata": {},
   "outputs": [
    {
     "name": "stdout",
     "output_type": "stream",
     "text": [
      "[0, 3, 9, 15, 21, 27, 33, 39, 45, 51, 57, 63, 69, 75, 81, 87, 93, 99, 105, 111, 117, 123, 129, 135, 141, 147, 153, 159, 165, 171, 177, 183, 189, 195, 201, 207, 213, 219, 225, 231, 237, 243, 249, 255, 261, 267, 273, 279, 285, 291, 297]\n",
      "сумму элементов, строго меньших 2.6:  0   -15.196446\n",
      "dtype: float64\n",
      "количество значений серии меньше нуля:  0    51\n",
      "dtype: int64\n"
     ]
    }
   ],
   "source": [
    "np.random.seed(242)\n",
    "s = pd.Series (np.random.normal(size = 100))\n",
    "#print (s.head())\n",
    "s**=3\n",
    "#print (s.head())\n",
    "s1 = s.reset_index()\n",
    "s1['index'] *= 3\n",
    "#print (s1.head())\n",
    "del (s)\n",
    "s = s1.set_index(['index'])\n",
    "del (s1)\n",
    "#print (s.head())\n",
    "b = []\n",
    "for x in s.index:\n",
    "    if x%2 != 0 :\n",
    "        b.append(x)\n",
    "#print (b)\n",
    "#print (s.loc[b])\n",
    "#x = s.loc[b] < 2.6\n",
    "#print (s[x].sum())\n",
    "#print (s < 0)\n",
    "print (\"сумму элементов, строго меньших 2.6: \",s[s.loc[b] < 2.6].sum())\n",
    "print (\"количество значений серии меньше нуля: \",(s < 0).sum())"
   ]
  },
  {
   "cell_type": "markdown",
   "metadata": {},
   "source": [
    "### Информация для последующих заданий\n",
    "- Для всех последующих заданий будем использовать обезличенные транзакционные банковские данные. Для этого считайте в переменные tr_mcc_codes, tr_types, transactions и gender_train из одноимённых таблиц из папки data. Для таблицы transactions используйте только первые n=1000000 строк. Обратите внимание на разделители внутри каждого из файлов - они могут различаться!"
   ]
  },
  {
   "cell_type": "code",
   "execution_count": 6,
   "metadata": {},
   "outputs": [
    {
     "name": "stdout",
     "output_type": "stream",
     "text": [
      "**tr_mcc_codes \n",
      "                                             mcc_description\n",
      "mcc_code                                                   \n",
      "742                                     Ветеринарные услуги\n",
      "1711      Генеральные подрядчики по вентиляции, теплосна...\n",
      "1731                            Подрядчики по электричеству\n",
      "1799      Подрядчики, специализированная торговля — нигд...\n",
      "2741               Разнообразные издательства/печатное дело\n",
      "\n",
      "**tr_types \n",
      "                                             tr_description\n",
      "tr_type                                                   \n",
      "3200     Плата за предоставление услуг посредством моби...\n",
      "3210     Плата за предоставление отчета по счету карты ...\n",
      "3800     Плата за обслуживание банковской карты (за пер...\n",
      "4000               Плата за получение наличных в Сбербанке\n",
      "4001     Плата за получение наличных в Сбербанке (в дру...\n",
      "\n",
      "**transactions \n",
      "             tr_datetime  mcc_code  tr_type    amount term_id\n",
      "customer_id                                                 \n",
      "39026145     0 10:23:26      4814     1030  -2245.92     NaN\n",
      "39026145     1 10:19:29      6011     7010  56147.89     NaN\n",
      "39026145     1 10:20:56      4829     2330 -56147.89     NaN\n",
      "39026145     1 10:39:54      5499     1010  -1392.47     NaN\n",
      "39026145     2 15:33:42      5499     1010   -920.83     NaN\n",
      "\n",
      "**gender_train \n",
      "              gender\n",
      "customer_id        \n",
      "10928546          1\n",
      "69348468          1\n",
      "61009479          0\n",
      "74045822          0\n",
      "27979606          1\n"
     ]
    }
   ],
   "source": [
    "### Type your code here\n",
    "import numpy as np\n",
    "import pandas as pd\n",
    "import os\n",
    "\n",
    "pd.options.display.max_rows = 10\n",
    "\n",
    "tr_mcc_codes = pd.read_csv(\"../data/tr_mcc_codes.csv\", sep=\";\", index_col=\"mcc_code\")\n",
    "print(\"**tr_mcc_codes\",\"\\n\\r\",tr_mcc_codes.head())\n",
    "\n",
    "tr_types = pd.read_csv(\"../data/tr_types.csv\", sep=\";\", index_col=\"tr_type\")\n",
    "print(\"\\n\\r**tr_types\",\"\\n\\r\",tr_types.head())\n",
    "\n",
    "transactions = pd.read_csv(\"../data/transactions.csv\", sep=\",\", nrows=1000000, index_col=\"customer_id\")\n",
    "print(\"\\n\\r**transactions\",\"\\n\\r\",transactions.head())\n",
    "\n",
    "gender_train = pd.read_csv(\"../data/gender_train.csv\", sep=\",\", index_col=\"customer_id\")\n",
    "print(\"\\n\\r**gender_train\",\"\\n\\r\",gender_train.head())"
   ]
  },
  {
   "cell_type": "markdown",
   "metadata": {},
   "source": [
    "#### Task 5.\n",
    "1. В tr_types выберите произвольные 100 строк с помощью метода sample (указав при этом random_seed равный 242)\n",
    "2. В полученной на предыдущем этапе подвыборке найдите долю наблюдений (стобец tr_description), в которой содержится подстрока 'плата' (в любом регистре). (\\*)\n",
    "\n",
    "Выведите ответ в виде вещественного числа, округлённого до двух знаков после запятой, отделив дробную часть точкой в формате \"123.45\"\n",
    "\n",
    "##### Пояснения:\n",
    "(\\*) Строки \"ПлатА за аренду\", \"ПлатАза аренду\", \"ПЛАТА\" удовлетворяют условию, так как будучи переведёнными в нижний регистр содержат подстроку \"плата\".\n",
    "Отвеит - 0.26"
   ]
  },
  {
   "cell_type": "code",
   "execution_count": 7,
   "metadata": {
    "scrolled": true
   },
   "outputs": [
    {
     "name": "stdout",
     "output_type": "stream",
     "text": [
      "tr_description    0.26\n",
      "dtype: float64\n",
      "количество \"плата\"- 26\n"
     ]
    }
   ],
   "source": [
    "np.random.seed(242)\n",
    "x = tr_types.sample(n=100)\n",
    "x = x[x[\"tr_description\"].str.lower().str.contains(\"плата\", regex=False)]\n",
    "#x = tr_types.sample(n=100)[\"tr_description\"].str.lower().str.contains(\"плата\", regex=False)\n",
    "#print (x[\"tr_description\"].str.find(\"Плата\"))\n",
    "print(x.count()/100)\n",
    "print (\"количество \\\"плата\\\"-\",x.count()[0])"
   ]
  },
  {
   "cell_type": "markdown",
   "metadata": {},
   "source": [
    "## Описание данных\n",
    "### Таблица ```transactions.csv```\n",
    "##### Описание\n",
    "Таблица содержит историю транзакций клиентов банка за один год и три месяца.\n",
    "\n",
    "##### Формат данных\n",
    "\n",
    "```\n",
    "customer_id,tr_datetime,mcc_code,tr_type,amount,term_id\n",
    "111111,15 01:40:52,1111,1000,-5224,111111\n",
    "111112,15 15:18:32,3333,2000,-100,11122233\n",
    "...\n",
    "```\n",
    "##### Описание полей\n",
    "\n",
    " - ```customer_id``` — идентификатор клиента;\n",
    " - ```tr_datetime``` — день и время совершения транзакции (дни нумеруются с начала данных);\n",
    " - ```mcc_code``` — mcc-код транзакции;\n",
    " - ```tr_type``` — тип транзакции;\n",
    " - ```amount``` — сумма транзакции в условных единицах со знаком; ```+``` — начисление средств клиенту (приходная транзакция), ```-``` — списание средств (расходная транзакция);\n",
    " - ```term_id``` — идентификатор терминала;\n",
    "\n",
    "\n",
    "### Таблица ```gender_train.csv```\n",
    "\n",
    "##### Описание\n",
    "Данная таблица содержит информацию по полу для части клиентов, для которых он известен. Для остальных клиентов пол неизвестен.\n",
    "\n",
    "##### Формат данных\n",
    "```\n",
    "customer_id,gender\n",
    "111111,0\n",
    "111112,1\n",
    "...\n",
    "```\n",
    "\n",
    "##### Описание полей\n",
    " - ```customer_id``` — идентификатор клиента;\n",
    " - ```gender``` — пол клиента;\n",
    "\n",
    "### Таблица ```tr_mcc_codes.csv```\n",
    "\n",
    "##### Описание\n",
    "Данная таблица содержит описание mcc-кодов транзакций.\n",
    "\n",
    "##### Формат данных\n",
    "```\n",
    "mcc_code;mcc_description\n",
    "1000;словесное описание mcc-кода 1000\n",
    "2000;словесное описание mcc-кода 2000\n",
    "...\n",
    "```\n",
    "\n",
    "##### Описание полей\n",
    " - ```mcc_code``` – mcc-код транзакции;\n",
    " - ```mcc_description``` — описание mcc-кода транзакции.\n",
    "\n",
    "### Таблица ```tr_types.csv```\n",
    "\n",
    "##### Описание\n",
    "Данная таблица содержит описание типов транзакций.\n",
    "\n",
    "##### Формат данных\n",
    "```\n",
    "tr_type;tr_description\n",
    "1000;словесное описание типа транзакции 1000\n",
    "2000;словесное описание типа транзакции 2000\n",
    "...\n",
    "```\n",
    "\n",
    "##### Описание полей\n",
    " - ```tr_type``` – тип транзакции;\n",
    " - ```tr_description``` — описание типа транзакции;"
   ]
  },
  {
   "cell_type": "markdown",
   "metadata": {},
   "source": [
    "#### Task 6. \n",
    "1. Для поля tr_type датафрейма transactions посчитайте частоту встречаемости всех типов транзакций tr_type в transactions.\n",
    "2. Из перечисленных вариантов выберите те, которые попали в топ-5 транзакций по частоте встречаемости.\n",
    "\n",
    "#### Выберите все верные пункты:\n",
    "    + 1) Выдача наличных в АТМ Сбербанк России \n",
    "    - 2) Комиссия за обслуживание ссудного счета\n",
    "    - 3) Списание по требованию\t\n",
    "    + 4) Оплата услуги. Банкоматы СБ РФ \n",
    "    - 5) Погашение кредита (в пределах одного филиала)\n",
    "    + 6) Покупка. POS ТУ СБ РФ "
   ]
  },
  {
   "cell_type": "code",
   "execution_count": 8,
   "metadata": {},
   "outputs": [
    {
     "data": {
      "text/html": [
       "<div>\n",
       "<style scoped>\n",
       "    .dataframe tbody tr th:only-of-type {\n",
       "        vertical-align: middle;\n",
       "    }\n",
       "\n",
       "    .dataframe tbody tr th {\n",
       "        vertical-align: top;\n",
       "    }\n",
       "\n",
       "    .dataframe thead th {\n",
       "        text-align: right;\n",
       "    }\n",
       "</style>\n",
       "<table border=\"1\" class=\"dataframe\">\n",
       "  <thead>\n",
       "    <tr style=\"text-align: right;\">\n",
       "      <th></th>\n",
       "      <th>tr_description</th>\n",
       "    </tr>\n",
       "    <tr>\n",
       "      <th>tr_type</th>\n",
       "      <th></th>\n",
       "    </tr>\n",
       "  </thead>\n",
       "  <tbody>\n",
       "    <tr>\n",
       "      <th>1010</th>\n",
       "      <td>Покупка. POS ТУ СБ РФ</td>\n",
       "    </tr>\n",
       "    <tr>\n",
       "      <th>2010</th>\n",
       "      <td>Выдача наличных в АТМ Сбербанк России</td>\n",
       "    </tr>\n",
       "    <tr>\n",
       "      <th>7070</th>\n",
       "      <td>Перевод на карту (с карты) через Мобильный бан...</td>\n",
       "    </tr>\n",
       "    <tr>\n",
       "      <th>1110</th>\n",
       "      <td>Покупка. POS ТУ Россия</td>\n",
       "    </tr>\n",
       "    <tr>\n",
       "      <th>1030</th>\n",
       "      <td>Оплата услуги. Банкоматы СБ РФ</td>\n",
       "    </tr>\n",
       "  </tbody>\n",
       "</table>\n",
       "</div>"
      ],
      "text/plain": [
       "                                            tr_description\n",
       "tr_type                                                   \n",
       "1010                                 Покупка. POS ТУ СБ РФ\n",
       "2010                 Выдача наличных в АТМ Сбербанк России\n",
       "7070     Перевод на карту (с карты) через Мобильный бан...\n",
       "1110                                Покупка. POS ТУ Россия\n",
       "1030                        Оплата услуги. Банкоматы СБ РФ"
      ]
     },
     "execution_count": 8,
     "metadata": {},
     "output_type": "execute_result"
    }
   ],
   "source": [
    "x = transactions.groupby(\"tr_type\")\n",
    "group_size = x.size()\n",
    "#group_size_sort = group_size.sort_values(ascending=False).head()\n",
    "#print (tr_types.head())\n",
    "#print (group_size_sort.head())\n",
    "tr_types.loc[group_size.sort_values(ascending=False).head().index.tolist()]"
   ]
  },
  {
   "cell_type": "markdown",
   "metadata": {},
   "source": [
    "#### Task 7.\n",
    "1. В датафрейме transactions задайте столбец  customer_id в качестве индекса.\n",
    "2. Выделите клиента с максимальной суммой транзакции (то есть с максимальным приходом на карту). (\\*)\n",
    "3. Найдите у него наиболее часто встречающийся модуль суммы приходов/расходов. (\\**)\n",
    "\n",
    "\n",
    "#### Выберите все верные пункты:\n",
    "    + 1) 1122957.89\n",
    "    + 2) 15721.41\n",
    "    + 3) 22459.16\n",
    "    + 4) 13475494.63\n",
    "    - 5) 107407.78\n",
    "    - 6) 65019.26\n",
    "\n",
    "##### Пояснения:\n",
    "(\\*) Если у клиента были транзакции [-10000, 10, 0, -10], то максимумом будет являться значение 10. <br>\n",
    "(\\**) Если у клиента были транзакции [-10000, 10, 0, -10], то наиболее встречающийся модуль суммы транзакций равен 10, и встретился он 2 раза.\n",
    "Ответ 22459.16"
   ]
  },
  {
   "cell_type": "code",
   "execution_count": 54,
   "metadata": {
    "scrolled": true
   },
   "outputs": [
    {
     "name": "stdout",
     "output_type": "stream",
     "text": [
      "\n",
      "**transactions \n",
      "             tr_datetime  mcc_code  tr_type    amount term_id\n",
      "customer_id                                                 \n",
      "39026145     0 10:23:26      4814     1030  -2245.92     NaN\n",
      "39026145     1 10:19:29      6011     7010  56147.89     NaN\n",
      "39026145     1 10:20:56      4829     2330 -56147.89     NaN\n",
      "39026145     1 10:39:54      5499     1010  -1392.47     NaN\n",
      "39026145     2 15:33:42      5499     1010   -920.83     NaN\n",
      "максимальная транзакция- 145984525.17 \n",
      "\n",
      "ID клиента-               tr_datetime  mcc_code  tr_type     amount   term_id\n",
      "customer_id                                                      \n",
      "26782922       4 00:00:00      4812     1100  -31442.82       NaN\n",
      "26782922       5 00:00:00      6300     1100  -11935.25       NaN\n",
      "26782922       7 00:00:00      9399     1100  -11229.58       NaN\n",
      "26782922       7 00:00:00      4814     1100  -67377.47       NaN\n",
      "26782922       8 00:00:00      4900     1100 -129913.87       NaN\n",
      "...                   ...       ...      ...        ...       ...\n",
      "26782922     452 21:47:21      6010     7070  988202.94    888919\n",
      "26782922     453 00:00:00      5995     1110  -80852.97  T0060960\n",
      "26782922     454 21:45:02      4814     1030  -22459.16    888906\n",
      "26782922     456 00:00:00      5411     1110  -10488.43  50127546\n",
      "26782922     456 08:29:15      6010     7070  116787.62    888911\n",
      "\n",
      "[294 rows x 5 columns]\n"
     ]
    },
    {
     "data": {
      "text/plain": [
       "amount\n",
       "22459.16      25\n",
       "15721.41      12\n",
       "4491831.54     7\n",
       "1122957.89     6\n",
       "3368873.66     5\n",
       "              ..\n",
       "49298.08       1\n",
       "48847.32       1\n",
       "48754.56       1\n",
       "45807.70       1\n",
       "10013.19       1\n",
       "Name: amount, Length: 216, dtype: int64"
      ]
     },
     "execution_count": 54,
     "metadata": {},
     "output_type": "execute_result"
    }
   ],
   "source": [
    "print(\"\\n\\r**transactions\",\"\\n\\r\",transactions.head())\n",
    "print (\"максимальная транзакция-\",transactions.amount.max(),\"\\n\\r\")\n",
    "amount_maxusr = transactions.loc[transactions[transactions.amount == transactions.amount.max()].index.tolist()]\n",
    "print (\"ID клиента-\",amount_maxusr)\n",
    "x = amount_maxusr.amount.abs().map(\"{:.2f}\".format)\n",
    "x = x.groupby(x)\n",
    "x.size().sort_values(ascending=False)"
   ]
  },
  {
   "cell_type": "markdown",
   "metadata": {},
   "source": [
    "#### Task 8.\n",
    "1. Найдите максимальную разницу между парой из следующих значений (\\*):\n",
    "    - Медиана суммы транзакций\n",
    "    - Медиана суммы транзакций по тем строкам, которые ни в одном из своих столбцов не содержат пустые значения\n",
    "    - Медиана суммы упорядоченного по столбцу amount датафрейма transactions, у которого удалены дублирующиеся по столбцам [mcc_code, tr_type] строки, причём при удалении соответстующих дублей остаются только последние из дублирующихся строк (keep='last')\n",
    "\n",
    "Выведите ответ в виде вещественного числа, округлённого до двух знаков после запятой, отделив дробную часть точкой в формате \"123.45\"\n",
    "\n",
    "##### Пояснения:\n",
    "(\\*) Для вычисления максимальной разницы между значениями списка можно использовать функцию np.ptp  \n",
    "(\\**) Если в результате получились значения [1,3,5], то макимальная разница между ними 4 == 5-1.\n",
    "\n",
    "5614.79\n",
    "\n",
    "5599.07\n",
    "\n",
    "13583.3\n",
    "\n",
    "ответ-7984.23"
   ]
  },
  {
   "cell_type": "code",
   "execution_count": 61,
   "metadata": {
    "scrolled": true
   },
   "outputs": [
    {
     "name": "stdout",
     "output_type": "stream",
     "text": [
      "Медиана транзакций: -5614.79\n",
      "Медиана транзакций чистых: -5596.6\n",
      "Медиана 3: -14575.99\n"
     ]
    },
    {
     "data": {
      "text/plain": [
       "8979.39"
      ]
     },
     "execution_count": 61,
     "metadata": {},
     "output_type": "execute_result"
    }
   ],
   "source": [
    "#print(\"\\n\\r**transactions\",\"\\n\\r\",transactions.head())\n",
    "#print (transactions.count())\n",
    "#transactions.to_csv(\"111.csv\")\n",
    "\n",
    "mediana_amount = transactions.amount.median()\n",
    "print (\"Медиана транзакций:\", mediana_amount)\n",
    "transactions_clear = transactions.dropna()\n",
    "mediana2 = transactions_clear.amount.median()\n",
    "print (\"Медиана транзакций чистых:\", mediana2)\n",
    "mediana3 = transactions.drop_duplicates([\"mcc_code\", \"tr_type\"], keep=\"last\").amount.median()\n",
    "print (\"Медиана 3:\", mediana3)\n",
    "#print (np.ptp([5614.79, 5596.6, 13583.3]))\n",
    "np.ptp([mediana_amount, mediana2, mediana3])"
   ]
  },
  {
   "cell_type": "code",
   "execution_count": null,
   "metadata": {},
   "outputs": [],
   "source": []
  }
 ],
 "metadata": {
  "hide_input": false,
  "kernelspec": {
   "display_name": "Python 3",
   "language": "python",
   "name": "python3"
  },
  "language_info": {
   "codemirror_mode": {
    "name": "ipython",
    "version": 3
   },
   "file_extension": ".py",
   "mimetype": "text/x-python",
   "name": "python",
   "nbconvert_exporter": "python",
   "pygments_lexer": "ipython3",
   "version": "3.7.3"
  },
  "toc": {
   "base_numbering": 1,
   "nav_menu": {},
   "number_sections": true,
   "sideBar": true,
   "skip_h1_title": false,
   "title_cell": "Table of Contents",
   "title_sidebar": "Contents",
   "toc_cell": false,
   "toc_position": {},
   "toc_section_display": true,
   "toc_window_display": false
  },
  "varInspector": {
   "cols": {
    "lenName": 16,
    "lenType": 16,
    "lenVar": 40
   },
   "kernels_config": {
    "python": {
     "delete_cmd_postfix": "",
     "delete_cmd_prefix": "del ",
     "library": "var_list.py",
     "varRefreshCmd": "print(var_dic_list())"
    },
    "r": {
     "delete_cmd_postfix": ") ",
     "delete_cmd_prefix": "rm(",
     "library": "var_list.r",
     "varRefreshCmd": "cat(var_dic_list()) "
    }
   },
   "types_to_exclude": [
    "module",
    "function",
    "builtin_function_or_method",
    "instance",
    "_Feature"
   ],
   "window_display": false
  }
 },
 "nbformat": 4,
 "nbformat_minor": 2
}
